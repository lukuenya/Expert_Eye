{
 "cells": [
  {
   "cell_type": "code",
   "execution_count": 1,
   "metadata": {},
   "outputs": [],
   "source": [
    "import pandas as pd\n",
    "import numpy as np\n",
    "import re\n",
    "import datetime"
   ]
  },
  {
   "cell_type": "code",
   "execution_count": 2,
   "metadata": {},
   "outputs": [],
   "source": [
    "# Importing the dataset\n",
    "df = pd.read_excel('./question_v1.xlsx', sheet_name='Copy')\n",
    "data = df.copy()"
   ]
  },
  {
   "cell_type": "code",
   "execution_count": 3,
   "metadata": {},
   "outputs": [
    {
     "name": "stdout",
     "output_type": "stream",
     "text": [
      "<class 'pandas.core.frame.DataFrame'>\n",
      "RangeIndex: 97 entries, 0 to 96\n",
      "Columns: 318 entries, Foldername to EDUCATION\n",
      "dtypes: float64(41), object(277)\n",
      "memory usage: 241.1+ KB\n"
     ]
    }
   ],
   "source": [
    "data.info()"
   ]
  },
  {
   "cell_type": "markdown",
   "metadata": {},
   "source": [
    "Handling date de naissance"
   ]
  },
  {
   "cell_type": "code",
   "execution_count": 3,
   "metadata": {},
   "outputs": [],
   "source": [
    "# Date de naissance column : VINCQ32DDN [TO HANDLE]\n",
    "# Covert '1947-07-01 00:00:00' to 'Age: 73'\n",
    "def date_naissance_col(x):\n",
    "    \"\"\"\n",
    "    Convert '1947-07-01 00:00:00' to 'Age: 73'\n",
    "    \"\"\"\n",
    "    if pd.isnull(x):\n",
    "        return np.nan\n",
    "    elif isinstance(x, str):\n",
    "        try:\n",
    "            # Try to parse the date\n",
    "            date_of_birth = datetime.datetime.strptime(x, '%Y-%m-%d %H:%M:%S')\n",
    "            # Calculate and return the age\n",
    "            return datetime.datetime.now().year - date_of_birth.year\n",
    "        except ValueError:\n",
    "            # If the date parsing fails, return the original value\n",
    "            return x\n",
    "    return x\n",
    "\n",
    "data['VINCQ32DDN'] = data['VINCQ32DDN'].apply(date_naissance_col)\n"
   ]
  },
  {
   "cell_type": "markdown",
   "metadata": {},
   "source": [
    "Custom Encoding #0 : Oui & Non"
   ]
  },
  {
   "cell_type": "code",
   "execution_count": 4,
   "metadata": {},
   "outputs": [],
   "source": [
    "def custom_encoding_0(x):\n",
    "    \"\"\"\n",
    "    Encode 'Oui' and 'Non' to 1 and 0\n",
    "    \"\"\"\n",
    "    if x in ['Non', 'NON (2)', 'Non (0)', 'NON ( 0 points)']:\n",
    "        return 0\n",
    "    elif x in ['Oui', 'OUI (1)', 'Oui (1) (Spécifier)', 'OUI (4 points)' ]:\n",
    "        return 1\n",
    "    elif x == 'PARFOIS ( 2 points)':\n",
    "        return 0.5\n",
    "    elif x == 'NaN':\n",
    "        return np.nan\n",
    "    elif x == 'Ne sait pas':\n",
    "        return np.nan\n",
    "    else:\n",
    "        return x\n",
    "    \n",
    "data = data.applymap(custom_encoding_0)"
   ]
  },
  {
   "cell_type": "markdown",
   "metadata": {},
   "source": [
    "HADS001"
   ]
  },
  {
   "cell_type": "code",
   "execution_count": 5,
   "metadata": {},
   "outputs": [],
   "source": [
    "# Encoding 'Jamais' -> `0`, 'Souvent' -> `1`, 'De temps en temps' -> `2`, 'La plupart du temps' -> `3`\n",
    "def custom_encoding_1(x):\n",
    "    if x == 'Jamais':\n",
    "        return 0\n",
    "    elif x == 'Souvent':\n",
    "        return 1\n",
    "    elif x == 'De temps en temps':\n",
    "        return 2\n",
    "    elif x == 'La plupart du temps':\n",
    "        return 3\n",
    "    elif pd.isnull(x):\n",
    "        return np.nan\n",
    "    else:\n",
    "        return x\n",
    "    \n",
    "data['HADS001'] = data['HADS001'].apply(custom_encoding_1)\n"
   ]
  },
  {
   "cell_type": "markdown",
   "metadata": {},
   "source": [
    "HADS002"
   ]
  },
  {
   "cell_type": "code",
   "execution_count": 6,
   "metadata": {},
   "outputs": [],
   "source": [
    "# Encoding 'Pas autant' -> `0`, 'Un peu seulement' -> `1`, 'Presque plus' -> `2`, 'Oui, tout autant' -> `3`\n",
    "def custom_encoding_2(x):\n",
    "    if x == 'Pas autant':\n",
    "        return 0\n",
    "    elif x == 'Un peu seulement':\n",
    "        return 1\n",
    "    elif x == 'Presque plus':\n",
    "        return 2\n",
    "    elif x == 'Oui, tout autant':\n",
    "        return 3\n",
    "    elif pd.isnull(x):\n",
    "        return np.nan\n",
    "    else:\n",
    "        return x\n",
    "    \n",
    "data['HADS002'] = data['HADS002'].apply(custom_encoding_2)"
   ]
  },
  {
   "cell_type": "code",
   "execution_count": 8,
   "metadata": {},
   "outputs": [],
   "source": [
    "# Encoding 'Pas du tout' -> `0`, 'Un peu, mais cela ne m’inquiète pas' -> `1`, 'Oui, mais ce n’est pas trop grave' -> `2`, 'Oui, très nettement' -> `3`\n",
    "def custom_encoding_3(x):\n",
    "    if x == 'Pas du tout':\n",
    "        return 0\n",
    "    elif x == 'Un peu, mais cela ne m’inquiète pas':\n",
    "        return 1\n",
    "    elif x == 'Oui, mais ce n’est pas trop grave':\n",
    "        return 2\n",
    "    elif x == 'Oui, très nettement':\n",
    "        return 3\n",
    "    elif pd.isnull(x):\n",
    "        return np.nan\n",
    "    else:\n",
    "        return x\n",
    "    \n",
    "data['HADS003'] = data['HADS003'].apply(custom_encoding_3)\n"
   ]
  },
  {
   "cell_type": "code",
   "execution_count": 10,
   "metadata": {},
   "outputs": [],
   "source": [
    "# Encoding 'Vraiment moins qu’avant' -> `0`, 'Plus du tout' -> `1`, 'Plus autant qu’avant' -> `2`, 'Autant que par le passé' -> `3`\n",
    "def custom_encoding_4(x):\n",
    "    if x == 'Vraiment moins qu’avant':\n",
    "        return 0\n",
    "    elif x == 'Plus du tout':\n",
    "        return 1\n",
    "    elif x == 'Plus autant qu’avant':\n",
    "        return 2\n",
    "    elif x == 'Autant que par le passé':\n",
    "        return 3\n",
    "    elif pd.isnull(x):\n",
    "        return np.nan\n",
    "    else:\n",
    "        return x\n",
    "    \n",
    "data['HADS004'] = data['HADS004'].apply(custom_encoding_4)\n"
   ]
  },
  {
   "cell_type": "code",
   "execution_count": 11,
   "metadata": {},
   "outputs": [],
   "source": [
    "# Encoding 'Très occasionnellement' -> `0`, 'Occasionnellement' -> `1`, 'Assez souvent' -> `2`, 'Très souvent' -> `3`\n",
    "def custom_encoding_5(x):\n",
    "    if x == 'Très occasionnellement':\n",
    "        return 0\n",
    "    elif x == 'Occasionnellement':\n",
    "        return 1\n",
    "    elif x == 'Assez souvent':\n",
    "        return 2\n",
    "    elif x == 'Très souvent':\n",
    "        return 3\n",
    "    elif pd.isnull(x):\n",
    "        return np.nan\n",
    "    else:\n",
    "        return x\n",
    "    \n",
    "data['HADS005'] = data['HADS005'].apply(custom_encoding_5)"
   ]
  },
  {
   "cell_type": "code",
   "execution_count": 12,
   "metadata": {},
   "outputs": [],
   "source": [
    "# Encoding 'Rarement' -> `0`, 'Assez souvent' -> `1`, 'La plupart du temps' -> `2`\n",
    "def custom_encoding_6(x):\n",
    "    if x == 'Rarement':\n",
    "        return 0\n",
    "    elif x == 'Assez souvent':\n",
    "        return 1\n",
    "    elif x == 'La plupart du temps':\n",
    "        return 2\n",
    "    elif pd.isnull(x):\n",
    "        return np.nan\n",
    "    else:\n",
    "        return x\n",
    "    \n",
    "data['HADS006'] = data['HADS006'].apply(custom_encoding_6)"
   ]
  },
  {
   "cell_type": "code",
   "execution_count": 13,
   "metadata": {},
   "outputs": [],
   "source": [
    "# Encoding 'Jamais' -> `0`, 'Rarement' -> `1`, 'Oui, en général' -> `2`, 'Oui, quoi qu’il arrive' -> `3`\n",
    "def custom_encoding_7(x):\n",
    "    if x == 'Jamais':\n",
    "        return 0\n",
    "    elif x == 'Rarement':\n",
    "        return 1\n",
    "    elif x == 'Oui, en général':\n",
    "        return 2\n",
    "    elif x == 'Oui, quoi qu’il arrive':\n",
    "        return 3\n",
    "    elif pd.isnull(x):\n",
    "        return np.nan\n",
    "    else:\n",
    "        return x\n",
    "    \n",
    "data['HADS007'] = data['HADS007'].apply(custom_encoding_7)\n"
   ]
  },
  {
   "cell_type": "code",
   "execution_count": 14,
   "metadata": {},
   "outputs": [],
   "source": [
    "# Encoding 'Jamais' -> `0`, 'Parfois' -> `1`, 'Très souvent' -> `2`, 'Presque toujours' -> `3`\n",
    "def custom_encoding_8(x):\n",
    "    if x == 'Jamais':\n",
    "        return 0\n",
    "    elif x == 'Parfois':\n",
    "        return 1\n",
    "    elif x == 'Très souvent':\n",
    "        return 2\n",
    "    elif x == 'Presque toujours':\n",
    "        return 3\n",
    "    elif pd.isnull(x):\n",
    "        return np.nan\n",
    "    else:\n",
    "        return x\n",
    "    \n",
    "data['HADS008'] = data['HADS008'].apply(custom_encoding_8)"
   ]
  },
  {
   "cell_type": "code",
   "execution_count": 15,
   "metadata": {},
   "outputs": [],
   "source": [
    "# Encoding 'Jamais' -> `0`, 'Parfois' -> `1`, 'Assez souvent' -> `2`, 'Très souvent' -> `3`\n",
    "def custom_encoding_9(x):\n",
    "    if x == 'Jamais':\n",
    "        return 0\n",
    "    elif x == 'Parfois':\n",
    "        return 1\n",
    "    elif x == 'Assez souvent':\n",
    "        return 2\n",
    "    elif x == 'Très souvent':\n",
    "        return 3\n",
    "    elif pd.isnull(x):\n",
    "        return np.nan\n",
    "    else:\n",
    "        return x\n",
    "    \n",
    "data['HADS009'] = data['HADS009'].apply(custom_encoding_9)\n"
   ]
  },
  {
   "cell_type": "code",
   "execution_count": 16,
   "metadata": {},
   "outputs": [],
   "source": [
    "# Encoding 'Plus du tout' -> `0`, 'Je n’y accorde pas autant d’attention que je devrais' -> `1`, 'Il se peut que je n’y fasse plus autant attention' -> `2`, 'J’y prête autant d’attention que par le passé' -> `3`\n",
    "def custom_encoding_10(x):\n",
    "    if x == 'Plus du tout':\n",
    "        return 0\n",
    "    elif x == 'Je n’y accorde pas autant d’attention que je devrais':\n",
    "        return 1\n",
    "    elif x == 'Il se peut que je n’y fasse plus autant attention':\n",
    "        return 2\n",
    "    elif x == 'J’y prête autant d’attention que par le passé':\n",
    "        return 3\n",
    "    elif pd.isnull(x):\n",
    "        return np.nan\n",
    "    else:\n",
    "        return x\n",
    "    \n",
    "data['HADS010'] = data['HADS010'].apply(custom_encoding_10)"
   ]
  },
  {
   "cell_type": "code",
   "execution_count": 17,
   "metadata": {},
   "outputs": [],
   "source": [
    "# Encoding 'Pas du tout' -> `0`, 'Pas tellement' -> `1`, 'Un peu' -> `2`, 'Oui, c’est tout à fait le cas' -> `3`\n",
    "def custom_encoding_11(x):\n",
    "    if x == 'Pas du tout':\n",
    "        return 0\n",
    "    elif x == 'Pas tellement':\n",
    "        return 1\n",
    "    elif x == 'Un peu':\n",
    "        return 2\n",
    "    elif x == 'Oui, c’est tout à fait le cas':\n",
    "        return 3\n",
    "    elif pd.isnull(x):\n",
    "        return np.nan\n",
    "    else:\n",
    "        return x\n",
    "    \n",
    "data['HADS011'] = data['HADS011'].apply(custom_encoding_11)"
   ]
  },
  {
   "cell_type": "code",
   "execution_count": 18,
   "metadata": {},
   "outputs": [],
   "source": [
    "# Encoding 'Presque jamais' -> `0`, 'Bien moins qu’avant' -> `1`, 'Un peu moins qu’avant' -> `2`, 'Autant qu’avant' -> `3`\n",
    "def custom_encoding_12(x):\n",
    "    if x == 'Presque jamais':\n",
    "        return 0\n",
    "    elif x == 'Bien moins qu’avant':\n",
    "        return 1\n",
    "    elif x == 'Un peu moins qu’avant':\n",
    "        return 2\n",
    "    elif x == 'Autant qu’avant':\n",
    "        return 3\n",
    "    elif pd.isnull(x):\n",
    "        return np.nan\n",
    "    else:\n",
    "        return x\n",
    "    \n",
    "data['HADS012'] = data['HADS012'].apply(custom_encoding_12)"
   ]
  },
  {
   "cell_type": "code",
   "execution_count": 19,
   "metadata": {},
   "outputs": [],
   "source": [
    "# Encoding 'Jamais' -> `0`, 'Pas très souvent' -> `1`, 'Assez souvent' -> `2`, 'Vraiment très souvent' -> `3`\n",
    "def custom_encoding_13(x):\n",
    "    if x == 'Jamais':\n",
    "        return 0\n",
    "    elif x == 'Pas très souvent':\n",
    "        return 1\n",
    "    elif x == 'Assez souvent':\n",
    "        return 2\n",
    "    elif x == 'Vraiment très souvent':\n",
    "        return 3\n",
    "    elif pd.isnull(x):\n",
    "        return np.nan\n",
    "    else:\n",
    "        return x\n",
    "    \n",
    "data['HADS013'] = data['HADS013'].apply(custom_encoding_13)"
   ]
  },
  {
   "cell_type": "code",
   "execution_count": 20,
   "metadata": {},
   "outputs": [],
   "source": [
    "# Encoding 'Très rarement' -> `0`, 'Rarement' -> `1`, 'Parfois' -> `2`, 'Souvent' -> `3`\n",
    "def custom_encoding_14(x):\n",
    "    if x == 'Très rarement':\n",
    "        return 0\n",
    "    elif x == 'Rarement':\n",
    "        return 1\n",
    "    elif x == 'Parfois':\n",
    "        return 2\n",
    "    elif x == 'Souvent':\n",
    "        return 3\n",
    "    elif pd.isnull(x):\n",
    "        return np.nan\n",
    "    else:\n",
    "        return x\n",
    "    \n",
    "data['HADS014'] = data['HADS014'].apply(custom_encoding_14)"
   ]
  },
  {
   "cell_type": "code",
   "execution_count": 21,
   "metadata": {},
   "outputs": [],
   "source": [
    "# Encoding 'Pas du tout' -> `0`, 'Un peu' -> `1`, 'Assez' -> `2`, 'Beaucoup' -> `3` to all data\n",
    "def custom_encoding_15(x):\n",
    "    if x == 'Pas du tout':\n",
    "        return 0\n",
    "    elif x == 'Un peu':\n",
    "        return 1\n",
    "    elif x == 'Assez':\n",
    "        return 2\n",
    "    elif x == 'Beaucoup':\n",
    "        return 3\n",
    "    elif pd.isnull(x):\n",
    "        return np.nan\n",
    "    else:\n",
    "        return x\n",
    "\n",
    "data = data.applymap(custom_encoding_15)\n"
   ]
  },
  {
   "cell_type": "code",
   "execution_count": 22,
   "metadata": {},
   "outputs": [],
   "source": [
    "# Encode '0' -> `0` , ['1 à 2 fois', 'Plus de 1'] -> `1` , 'Plus de 2 fois' -> `2` to FRAGIRE02 and FRAGIRE 15 columns\n",
    "def custom_encoding_16(x):\n",
    "    if x == 0 :\n",
    "        return 0\n",
    "    elif x in [\"1 à 2 fois\", \"Plus de 1\"]:\n",
    "        return 1\n",
    "    elif x == 'Plus de 2 fois':\n",
    "        return 2\n",
    "    elif pd.isnull(x):\n",
    "        return np.nan\n",
    "    else:\n",
    "        return x\n",
    "    \n",
    "data['FRAGIRE02'] = data['FRAGIRE02'].apply(custom_encoding_16)\n",
    "data['FRAGIRE15'] = data['FRAGIRE15'].apply(custom_encoding_16)"
   ]
  },
  {
   "cell_type": "code",
   "execution_count": 23,
   "metadata": {},
   "outputs": [],
   "source": [
    "# Encode by extracting the number in parenthesis from the string\n",
    "def extract_number(value):\n",
    "    \"\"\"\n",
    "    Return only the numeric part of the string\n",
    "    \"\"\"\n",
    "    if pd.isnull(value):\n",
    "        return np.nan\n",
    "    elif isinstance(value, str):\n",
    "        match = re.search(r'\\((\\d+)\\)', value)\n",
    "        if match:\n",
    "            return int(match.group(1))\n",
    "    return value\n",
    "\n",
    "# Apply to all columns\n",
    "data = data.applymap(extract_number)\n"
   ]
  },
  {
   "cell_type": "code",
   "execution_count": 30,
   "metadata": {},
   "outputs": [],
   "source": [
    "# Medication columns\n",
    "medication = data.iloc[:, 142:172]\n",
    "medication_cols = medication.columns.to_list()\n"
   ]
  },
  {
   "cell_type": "code",
   "execution_count": 29,
   "metadata": {},
   "outputs": [],
   "source": [
    "from sklearn.preprocessing import OneHotEncoder\n",
    "def one_hot_encoding(df, cols):\n",
    "    \"\"\"\n",
    "    OneHot Encoding of some columns with sklearn\n",
    "    :param df: DataFrame\n",
    "    :param cols: list of columns to encode\n",
    "    :return: DataFrame\n",
    "    \"\"\"\n",
    "    # convert values to string\n",
    "    for col in cols:\n",
    "        df[col] = df[col].astype(str)\n",
    "\n",
    "    enc = OneHotEncoder(handle_unknown='ignore')\n",
    "    enc_df = pd.DataFrame(enc.fit_transform(df[cols]).toarray())\n",
    "    enc_df.columns = enc.get_feature_names_out(cols)\n",
    "    df = df.drop(cols, axis=1)\n",
    "    df = df.join(enc_df)\n",
    "    return df\n",
    "\n",
    "# Encode the medication names\n",
    "data = one_hot_encoding(data, medication_cols)\n",
    "# One-Hot encoding of `RETRAITE - DOMAINE - EDUCATION` columns\n",
    "data = one_hot_encoding(data, ['RETRAITE', 'DOMAINE', 'EDUCATION'])"
   ]
  },
  {
   "cell_type": "code",
   "execution_count": 34,
   "metadata": {},
   "outputs": [],
   "source": [
    "# Encode `CORRECT (1 points)` -> `1`, `INCORRECT (0 points)` -> `0`\n",
    "def custom_encoding_17(x):\n",
    "    if x == 'CORRECTE (1 point)':\n",
    "        return 1\n",
    "    elif x == 'INCORRECTE (0 point)':\n",
    "        return 0\n",
    "    elif pd.isnull(x):\n",
    "        return np.nan\n",
    "    else:\n",
    "        return x\n",
    "    \n",
    "data = data.applymap(custom_encoding_17)"
   ]
  },
  {
   "cell_type": "code",
   "execution_count": 43,
   "metadata": {},
   "outputs": [],
   "source": [
    "# Encode `Maintenu pendant 10 s (1 point)` and `Maintenu pendant 10 s` -> `1`, `Tenu pendant 3 à 9,99 s` -> `0.5`,  `Non tenté` and `Tenu pendant un temps inférieur à 3 s` and `Non maintenu pendant 10 s` -> `0`\n",
    "def custom_encoding_18(x):\n",
    "    if x in ['Maintenu pendant 10 s (1 point)', 'Maintenu pendant 10 s']:\n",
    "        return 1\n",
    "    elif x == 'Tenu pendant 3 à 9,99 s':\n",
    "        return 0.5\n",
    "    elif x in ['Non tenté', 'Tenu pendant un temps inférieur à 3 s', 'Non maintenu pendant 10 s']:\n",
    "        return 0\n",
    "    elif pd.isnull(x):\n",
    "        return np.nan\n",
    "    else:\n",
    "        return x\n",
    "    \n",
    "data = data.applymap(custom_encoding_18)\n"
   ]
  },
  {
   "cell_type": "code",
   "execution_count": 46,
   "metadata": {},
   "outputs": [],
   "source": [
    "# Encode `Le participant s'est tenu debout sans utiliser les bras → Aller au test du levé de chaise répétée` -> `1`, `Le participant a utilisé les bras pour se tenir debout → Fin du test` -> `0`\n",
    "def custom_encoding_19(x):\n",
    "    if x == 'Le participant s\\'est tenu debout sans utiliser les bras → Aller au test du levé de chaise répétée':\n",
    "        return 1\n",
    "    elif x == 'Le participant a utilisé les bras pour se tenir debout → Fin du test':\n",
    "        return 0\n",
    "    elif pd.isnull(x):\n",
    "        return np.nan\n",
    "    else:\n",
    "        return x\n",
    "    \n",
    "data['SPPB8'] = data['SPPB8'].apply(custom_encoding_19)\n",
    "\n"
   ]
  },
  {
   "cell_type": "code",
   "execution_count": 50,
   "metadata": {},
   "outputs": [],
   "source": [
    "# Encde `Aucune` -> `0`, `1-3 verres` -> `1`, `4-10 verres` -> `2`, `11+ verres` -> `3`\n",
    "def custom_encoding_20(x):\n",
    "    if x == 'Aucune':\n",
    "        return 0\n",
    "    elif x == '1-3 verres':\n",
    "        return 1\n",
    "    elif x == '4-10 verres':\n",
    "        return 2\n",
    "    elif x == '11+ verres':\n",
    "        return 3\n",
    "    elif pd.isnull(x):\n",
    "        return np.nan\n",
    "    else:\n",
    "        return x\n",
    "    \n",
    "data['FROPCOM0016'] = data['FROPCOM0016'].apply(custom_encoding_20)"
   ]
  },
  {
   "cell_type": "code",
   "execution_count": 53,
   "metadata": {},
   "outputs": [],
   "source": [
    "# Encode `Aucune ou principalement sédentaire` -> `0`, `Activité physique régulière (au moins 2-4 heures par semaine)` -> `1`.\n",
    "def custom_encoding_21(x):\n",
    "    if x == 'Aucune ou principalement sédentaire':\n",
    "        return 0\n",
    "    elif x == 'Activité physique régulière (au moins 2-4 heures par semaine)':\n",
    "        return 1\n",
    "    elif pd.isnull(x):\n",
    "        return np.nan\n",
    "    else:\n",
    "        return x\n",
    "    \n",
    "data['EXAMCLIN02'] = data['EXAMCLIN02'].apply(custom_encoding_21)"
   ]
  },
  {
   "cell_type": "code",
   "execution_count": 58,
   "metadata": {},
   "outputs": [],
   "source": [
    "# Encode `Je n'ai pas réalisé de visite d'évaluation`, `Je n'ai pas réalisé de visite d'évaluation / Je ne sais pas` -> `0`\n",
    "def custom_encoding_22(x):\n",
    "    if x in ['Je n\\'ai pas réalisé de visite d\\'évaluation', 'Je n\\'ai pas réalisé de visite d\\'évaluation / Je ne sais pas']:\n",
    "        return 0\n",
    "    elif pd.isnull(x):\n",
    "        return np.nan\n",
    "    else:\n",
    "        return x\n",
    "\n",
    "data = data.applymap(custom_encoding_22)\n"
   ]
  },
  {
   "cell_type": "code",
   "execution_count": 64,
   "metadata": {},
   "outputs": [],
   "source": [
    "# Encode `0` -> `0`, `1 fois` -> `1`, `2 fois` -> `2`, `3 fois ou plus` -> `3`\n",
    "def custom_encoding_23(x):\n",
    "    if x == 0:\n",
    "        return 0\n",
    "    elif x == '1 fois':\n",
    "        return 1\n",
    "    elif x == '2 fois':\n",
    "        return 2\n",
    "    elif x == '3 fois ou plus':\n",
    "        return 3\n",
    "    elif pd.isnull(x):\n",
    "        return np.nan\n",
    "    else:\n",
    "        return x\n",
    "    \n",
    "data['FROPCOM0001'] = data['FROPCOM0001'].apply(custom_encoding_23)\n"
   ]
  },
  {
   "cell_type": "code",
   "execution_count": 67,
   "metadata": {},
   "outputs": [],
   "source": [
    "# Encode `REUSSITE` -> `1`, `ECHEC` -> `0`\n",
    "def custom_encoding_24(x):\n",
    "    if x == 'REUSSITE':\n",
    "        return 1\n",
    "    elif x == 'ECHEC':\n",
    "        return 0\n",
    "    elif pd.isnull(x):\n",
    "        return np.nan\n",
    "    else:\n",
    "        return x\n",
    "    \n",
    "data = data.applymap(custom_encoding_24)"
   ]
  },
  {
   "cell_type": "code",
   "execution_count": 71,
   "metadata": {},
   "outputs": [],
   "source": [
    "# Encode 3/60' -> 1, '6/60' -> 2, '6/18' -> 3\n",
    "def custom_encoding_25(x):\n",
    "    if x == '3/60':\n",
    "        return 1\n",
    "    elif x == '6/60':\n",
    "        return 2\n",
    "    elif x == '6/18':\n",
    "        return 3\n",
    "    elif pd.isnull(x):\n",
    "        return np.nan\n",
    "    else:\n",
    "        return x\n",
    "    \n",
    "data = data.applymap(custom_encoding_25)\n"
   ]
  },
  {
   "cell_type": "code",
   "execution_count": null,
   "metadata": {},
   "outputs": [],
   "source": [
    "# save the encoded data\n",
    "data.to_excel('./encoded_data.xlsx', index=False)"
   ]
  }
 ],
 "metadata": {
  "kernelspec": {
   "display_name": "py39",
   "language": "python",
   "name": "python3"
  },
  "language_info": {
   "codemirror_mode": {
    "name": "ipython",
    "version": 3
   },
   "file_extension": ".py",
   "mimetype": "text/x-python",
   "name": "python",
   "nbconvert_exporter": "python",
   "pygments_lexer": "ipython3",
   "version": "3.9.16"
  },
  "orig_nbformat": 4
 },
 "nbformat": 4,
 "nbformat_minor": 2
}
