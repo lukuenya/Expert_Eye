{
 "cells": [
  {
   "cell_type": "code",
   "execution_count": 2,
   "metadata": {},
   "outputs": [],
   "source": [
    "import  pandas as pd\n",
    "\n"
   ]
  },
  {
   "cell_type": "code",
   "execution_count": 3,
   "metadata": {},
   "outputs": [],
   "source": [
    "# Load the data\n",
    "df1 = pd.read_excel('p:/DATA_OCT_22/Data_Oct_2022/Questionnaires_20221012/results_inclusion_hgl_survey_453962.xlsx')\n",
    "df2 = pd.read_excel('p:/DATA_OCT_22/Data_Oct_2022/Questionnaires_20221012/results_inclusion_maspi_survey_645436.xlsx')\n",
    "df3 = pd.read_excel('p:/DATA_OCT_22/Data_Oct_2022/Questionnaires_20221012/results_inclusion_mspu_survey_133462.xlsx')\n",
    "df4 = pd.read_excel('p:/DATA_OCT_22/Data_Oct_2022/Questionnaires_20221012/results_inclusion_survey_863777.xlsx')\n",
    "df5 = pd.read_excel('p:/DATA_OCT_22/Data_Oct_2022/Questionnaires_20221012/results_initiale_medicale__survey_942171.xlsx')\n",
    "df6 = pd.read_excel('p:/DATA_OCT_22/Data_Oct_2022/Questionnaires_20221012/results_marche_vision_audition_2_survey_454886.xlsx')\n",
    "df7 = pd.read_excel('p:/DATA_OCT_22/Data_Oct_2022/Questionnaires_20221012/results_marche_vision_audition_survey_135879.xlsx')\n",
    "df8 = pd.read_excel('p:/DATA_OCT_22/Data_Oct_2022/Questionnaires_20221012/results_questionnaire_telephonique_survey_525661.xlsx')"
   ]
  },
  {
   "cell_type": "code",
   "execution_count": 4,
   "metadata": {},
   "outputs": [],
   "source": [
    "# Concatenate the dataframes\n",
    "df = pd.concat([df1, df2, df3, df4, df5, df6, df7, df8], axis=0)"
   ]
  },
  {
   "cell_type": "code",
   "execution_count": 5,
   "metadata": {},
   "outputs": [],
   "source": [
    "# Drop duplicates on the column 'Foldername'\n",
    "df.drop_duplicates(subset='Foldername', inplace=True)"
   ]
  },
  {
   "cell_type": "code",
   "execution_count": 5,
   "metadata": {},
   "outputs": [
    {
     "name": "stdout",
     "output_type": "stream",
     "text": [
      "<class 'pandas.core.frame.DataFrame'>\n",
      "Int64Index: 383 entries, 0 to 91\n",
      "Columns: 458 entries, ID de la réponse to Indiquez pour chacune des phrases suivantes dans quelle mesure elles sont vraies ou fausses dans votre cas :    [Je suis en parfaite santé  ]\n",
      "dtypes: float64(148), int64(2), object(308)\n",
      "memory usage: 1.3+ MB\n"
     ]
    }
   ],
   "source": [
    "df.info()"
   ]
  },
  {
   "cell_type": "code",
   "execution_count": 6,
   "metadata": {},
   "outputs": [],
   "source": [
    "# Make column 'Foldername' as the first column\n",
    "cols = df.columns.tolist()\n",
    "cols.insert(0, cols.pop(cols.index('Foldername')))\n",
    "df = df[cols]\n"
   ]
  },
  {
   "cell_type": "code",
   "execution_count": 7,
   "metadata": {},
   "outputs": [],
   "source": [
    "data = df.copy()"
   ]
  },
  {
   "cell_type": "code",
   "execution_count": 8,
   "metadata": {},
   "outputs": [
    {
     "name": "stdout",
     "output_type": "stream",
     "text": [
      "<class 'pandas.core.frame.DataFrame'>\n",
      "Int64Index: 383 entries, 0 to 91\n",
      "Columns: 458 entries, Foldername to Indiquez pour chacune des phrases suivantes dans quelle mesure elles sont vraies ou fausses dans votre cas :    [Je suis en parfaite santé  ]\n",
      "dtypes: float64(148), int64(2), object(308)\n",
      "memory usage: 1.3+ MB\n",
      "None\n"
     ]
    }
   ],
   "source": [
    "def merge_rows_with_more_data(group):\n",
    "    \"\"\"\n",
    "    In this code, the merge_rows_with_more_data function goes through each row in a group and uses\n",
    "    the combine_first method to fill in null values in the base row with values from the current row. \n",
    "    This is done for each column in the DataFrame. The result is a DataFrame where each group of duplicate rows\n",
    "    has been merged into a single row, with each column containing the first non-null value found in the duplicate rows.\n",
    "\n",
    "    \"\"\"\n",
    "    # Use the first row as the base\n",
    "    base_row = group.iloc[0]\n",
    "    \n",
    "    # Iterate over the rest of the rows in the group\n",
    "    for i in range(1, len(group)):\n",
    "        # Use combine_first to fill in null values in the base row with values from the current row\n",
    "        base_row = base_row.combine_first(group.iloc[i])\n",
    "    \n",
    "    # Return the merged row\n",
    "    return base_row\n",
    "\n",
    "# Group the DataFrame by 'Foldername' column\n",
    "grouped = data.groupby('Foldername')\n",
    "\n",
    "# Apply the merge_rows_with_more_data function to each group\n",
    "merged_df = grouped.apply(merge_rows_with_more_data).reset_index(drop=True)\n"
   ]
  },
  {
   "cell_type": "code",
   "execution_count": 9,
   "metadata": {},
   "outputs": [
    {
     "name": "stdout",
     "output_type": "stream",
     "text": [
      "<class 'pandas.core.frame.DataFrame'>\n",
      "RangeIndex: 119 entries, 0 to 118\n",
      "Columns: 458 entries, Foldername to Indiquez pour chacune des phrases suivantes dans quelle mesure elles sont vraies ou fausses dans votre cas :    [Je suis en parfaite santé  ]\n",
      "dtypes: float64(148), int64(2), object(308)\n",
      "memory usage: 425.9+ KB\n",
      "None\n"
     ]
    }
   ],
   "source": [
    "\n",
    "print(merged_df.info())"
   ]
  },
  {
   "cell_type": "code",
   "execution_count": 10,
   "metadata": {},
   "outputs": [],
   "source": [
    "# save the dataframe as a excel file\n",
    "merged_df.to_excel('./merged.xlsx', index=False)"
   ]
  },
  {
   "cell_type": "code",
   "execution_count": 12,
   "metadata": {},
   "outputs": [
    {
     "name": "stdout",
     "output_type": "stream",
     "text": [
      "<class 'pandas.core.frame.DataFrame'>\n",
      "RangeIndex: 119 entries, 0 to 118\n",
      "Columns: 458 entries, Foldername to Indiquez pour chacune des phrases suivantes dans quelle mesure elles sont vraies ou fausses dans votre cas :    [Je suis en parfaite santé  ]\n",
      "dtypes: float64(147), int64(3), object(308)\n",
      "memory usage: 425.9+ KB\n"
     ]
    }
   ],
   "source": [
    "# import the excel file\n",
    "df = pd.read_excel('./merged.xlsx')\n",
    "df.info()"
   ]
  },
  {
   "cell_type": "code",
   "execution_count": 13,
   "metadata": {},
   "outputs": [
    {
     "data": {
      "text/html": [
       "<div>\n",
       "<style scoped>\n",
       "    .dataframe tbody tr th:only-of-type {\n",
       "        vertical-align: middle;\n",
       "    }\n",
       "\n",
       "    .dataframe tbody tr th {\n",
       "        vertical-align: top;\n",
       "    }\n",
       "\n",
       "    .dataframe thead th {\n",
       "        text-align: right;\n",
       "    }\n",
       "</style>\n",
       "<table border=\"1\" class=\"dataframe\">\n",
       "  <thead>\n",
       "    <tr style=\"text-align: right;\">\n",
       "      <th></th>\n",
       "      <th>Foldername</th>\n",
       "      <th>Comment décririez-vous l'état de santé global de la personne évaluée ? [Comment décririez-vous l'état de santé global de la personne évaluée ? ]</th>\n",
       "      <th>Votre patient vous paraît-il fragile ?</th>\n",
       "    </tr>\n",
       "  </thead>\n",
       "  <tbody>\n",
       "    <tr>\n",
       "      <th>0</th>\n",
       "      <td>DUP001EMD</td>\n",
       "      <td>NaN</td>\n",
       "      <td>NaN</td>\n",
       "    </tr>\n",
       "    <tr>\n",
       "      <th>1</th>\n",
       "      <td>DUP002BME</td>\n",
       "      <td>5.0</td>\n",
       "      <td>Oui</td>\n",
       "    </tr>\n",
       "    <tr>\n",
       "      <th>2</th>\n",
       "      <td>DUP003HY</td>\n",
       "      <td>5.0</td>\n",
       "      <td>Oui</td>\n",
       "    </tr>\n",
       "    <tr>\n",
       "      <th>3</th>\n",
       "      <td>DUP004LC</td>\n",
       "      <td>8.0</td>\n",
       "      <td>Non</td>\n",
       "    </tr>\n",
       "    <tr>\n",
       "      <th>4</th>\n",
       "      <td>FRA001AMA</td>\n",
       "      <td>6.0</td>\n",
       "      <td>Oui</td>\n",
       "    </tr>\n",
       "  </tbody>\n",
       "</table>\n",
       "</div>"
      ],
      "text/plain": [
       "  Foldername  \\\n",
       "0  DUP001EMD   \n",
       "1  DUP002BME   \n",
       "2   DUP003HY   \n",
       "3   DUP004LC   \n",
       "4  FRA001AMA   \n",
       "\n",
       "   Comment décririez-vous l'état de santé global de la personne évaluée ? [Comment décririez-vous l'état de santé global de la personne évaluée ? ]  \\\n",
       "0                                                NaN                                                                                                  \n",
       "1                                                5.0                                                                                                  \n",
       "2                                                5.0                                                                                                  \n",
       "3                                                8.0                                                                                                  \n",
       "4                                                6.0                                                                                                  \n",
       "\n",
       "  Votre patient vous paraît-il fragile ?  \n",
       "0                                    NaN  \n",
       "1                                    Oui  \n",
       "2                                    Oui  \n",
       "3                                    Non  \n",
       "4                                    Oui  "
      ]
     },
     "execution_count": 13,
     "metadata": {},
     "output_type": "execute_result"
    }
   ],
   "source": [
    "# Slice the dataframe\n",
    "df_fragile = df[['Foldername', \"Comment décririez-vous l'état de santé global de la personne évaluée ? [Comment décririez-vous l'état de santé global de la personne évaluée ? ]\", 'Votre patient vous paraît-il fragile ?']]\n",
    "df_fragile.head()"
   ]
  },
  {
   "cell_type": "code",
   "execution_count": 16,
   "metadata": {},
   "outputs": [],
   "source": [
    "# Find list of folder in root and keep equivalent in df\n",
    "import os\n",
    "rootDir = 'p:/DATA_OCT_22/Expert_Eye/Dataset/gait_posture/raw_data/'\n",
    "folder_names = [name for name in os.listdir(rootDir) if os.path.isdir(os.path.join(rootDir, name))]\n",
    "\n",
    "len(list(folder_names))\n",
    "\n",
    "# Keep rows where 'Foldername' is in the list of folder names\n",
    "df_fragile = df_fragile[df_fragile['Foldername'].isin(folder_names)]"
   ]
  },
  {
   "cell_type": "code",
   "execution_count": 19,
   "metadata": {},
   "outputs": [
    {
     "data": {
      "text/plain": [
       "1      DUP002BME\n",
       "4      FRA001AMA\n",
       "5      FRA002CTI\n",
       "6      FRA003BMG\n",
       "7      FRA004LHN\n",
       "         ...    \n",
       "110    LEG048VHI\n",
       "111    LEG049FAL\n",
       "113    LEG050LMN\n",
       "116    MOU001NYA\n",
       "117     MOU002NJ\n",
       "Name: Foldername, Length: 97, dtype: object"
      ]
     },
     "execution_count": 19,
     "metadata": {},
     "output_type": "execute_result"
    }
   ],
   "source": [
    "df_fragile['Foldername']"
   ]
  },
  {
   "cell_type": "code",
   "execution_count": 20,
   "metadata": {},
   "outputs": [],
   "source": [
    "# Save the dataframe as a excel file\n",
    "df_fragile.to_excel('./df_fragile.xlsx', index=False)"
   ]
  },
  {
   "cell_type": "code",
   "execution_count": 21,
   "metadata": {},
   "outputs": [
    {
     "data": {
      "text/html": [
       "<div>\n",
       "<style scoped>\n",
       "    .dataframe tbody tr th:only-of-type {\n",
       "        vertical-align: middle;\n",
       "    }\n",
       "\n",
       "    .dataframe tbody tr th {\n",
       "        vertical-align: top;\n",
       "    }\n",
       "\n",
       "    .dataframe thead th {\n",
       "        text-align: right;\n",
       "    }\n",
       "</style>\n",
       "<table border=\"1\" class=\"dataframe\">\n",
       "  <thead>\n",
       "    <tr style=\"text-align: right;\">\n",
       "      <th></th>\n",
       "      <th>Foldername</th>\n",
       "      <th>Frailty_Score</th>\n",
       "      <th>Frailty_State</th>\n",
       "    </tr>\n",
       "  </thead>\n",
       "  <tbody>\n",
       "    <tr>\n",
       "      <th>0</th>\n",
       "      <td>DUP002BME</td>\n",
       "      <td>5.0</td>\n",
       "      <td>Oui</td>\n",
       "    </tr>\n",
       "    <tr>\n",
       "      <th>1</th>\n",
       "      <td>FRA001AMA</td>\n",
       "      <td>6.0</td>\n",
       "      <td>Oui</td>\n",
       "    </tr>\n",
       "    <tr>\n",
       "      <th>2</th>\n",
       "      <td>FRA002CTI</td>\n",
       "      <td>9.0</td>\n",
       "      <td>Non</td>\n",
       "    </tr>\n",
       "    <tr>\n",
       "      <th>3</th>\n",
       "      <td>FRA003BMG</td>\n",
       "      <td>7.0</td>\n",
       "      <td>Non</td>\n",
       "    </tr>\n",
       "    <tr>\n",
       "      <th>4</th>\n",
       "      <td>FRA004LHN</td>\n",
       "      <td>8.0</td>\n",
       "      <td>Non</td>\n",
       "    </tr>\n",
       "  </tbody>\n",
       "</table>\n",
       "</div>"
      ],
      "text/plain": [
       "  Foldername  Frailty_Score Frailty_State\n",
       "0  DUP002BME            5.0           Oui\n",
       "1  FRA001AMA            6.0           Oui\n",
       "2  FRA002CTI            9.0           Non\n",
       "3  FRA003BMG            7.0           Non\n",
       "4  FRA004LHN            8.0           Non"
      ]
     },
     "execution_count": 21,
     "metadata": {},
     "output_type": "execute_result"
    }
   ],
   "source": [
    "# import the excel file\n",
    "df = pd.read_excel('./df_fragile.xlsx')\n",
    "df.head()"
   ]
  },
  {
   "cell_type": "code",
   "execution_count": 22,
   "metadata": {},
   "outputs": [],
   "source": [
    "# Encode the column `Frailty_State` `Oui` to `1`` and `Non` to `0`, `NaN` to `np.nan`\n",
    "import numpy as np\n",
    "df['Frailty_State'] = df['Frailty_State'].map({'Oui': 1, 'Non': 0, np.nan: np.nan})\n"
   ]
  },
  {
   "cell_type": "code",
   "execution_count": 23,
   "metadata": {},
   "outputs": [
    {
     "data": {
      "text/html": [
       "<div>\n",
       "<style scoped>\n",
       "    .dataframe tbody tr th:only-of-type {\n",
       "        vertical-align: middle;\n",
       "    }\n",
       "\n",
       "    .dataframe tbody tr th {\n",
       "        vertical-align: top;\n",
       "    }\n",
       "\n",
       "    .dataframe thead th {\n",
       "        text-align: right;\n",
       "    }\n",
       "</style>\n",
       "<table border=\"1\" class=\"dataframe\">\n",
       "  <thead>\n",
       "    <tr style=\"text-align: right;\">\n",
       "      <th></th>\n",
       "      <th>Foldername</th>\n",
       "      <th>Frailty_Score</th>\n",
       "      <th>Frailty_State</th>\n",
       "    </tr>\n",
       "  </thead>\n",
       "  <tbody>\n",
       "    <tr>\n",
       "      <th>0</th>\n",
       "      <td>DUP002BME</td>\n",
       "      <td>5.0</td>\n",
       "      <td>1.0</td>\n",
       "    </tr>\n",
       "    <tr>\n",
       "      <th>1</th>\n",
       "      <td>FRA001AMA</td>\n",
       "      <td>6.0</td>\n",
       "      <td>1.0</td>\n",
       "    </tr>\n",
       "    <tr>\n",
       "      <th>2</th>\n",
       "      <td>FRA002CTI</td>\n",
       "      <td>9.0</td>\n",
       "      <td>0.0</td>\n",
       "    </tr>\n",
       "    <tr>\n",
       "      <th>3</th>\n",
       "      <td>FRA003BMG</td>\n",
       "      <td>7.0</td>\n",
       "      <td>0.0</td>\n",
       "    </tr>\n",
       "    <tr>\n",
       "      <th>4</th>\n",
       "      <td>FRA004LHN</td>\n",
       "      <td>8.0</td>\n",
       "      <td>0.0</td>\n",
       "    </tr>\n",
       "  </tbody>\n",
       "</table>\n",
       "</div>"
      ],
      "text/plain": [
       "  Foldername  Frailty_Score  Frailty_State\n",
       "0  DUP002BME            5.0            1.0\n",
       "1  FRA001AMA            6.0            1.0\n",
       "2  FRA002CTI            9.0            0.0\n",
       "3  FRA003BMG            7.0            0.0\n",
       "4  FRA004LHN            8.0            0.0"
      ]
     },
     "execution_count": 23,
     "metadata": {},
     "output_type": "execute_result"
    }
   ],
   "source": [
    "df.head()"
   ]
  },
  {
   "cell_type": "code",
   "execution_count": 25,
   "metadata": {},
   "outputs": [],
   "source": [
    "# Import global dataset\n",
    "df_global = pd.read_excel('./global_v2.xlsx')"
   ]
  },
  {
   "cell_type": "code",
   "execution_count": 26,
   "metadata": {},
   "outputs": [],
   "source": [
    "# Merge the two dataframes\n",
    "df = pd.merge(df_global, df, on='Foldername', how='left')"
   ]
  },
  {
   "cell_type": "code",
   "execution_count": 29,
   "metadata": {},
   "outputs": [
    {
     "name": "stdout",
     "output_type": "stream",
     "text": [
      "<class 'pandas.core.frame.DataFrame'>\n",
      "Int64Index: 97 entries, 0 to 96\n",
      "Columns: 1184 entries, Foldername to Frailty_Score\n",
      "dtypes: float64(517), int64(666), object(1)\n",
      "memory usage: 898.0+ KB\n"
     ]
    }
   ],
   "source": [
    "df.info()"
   ]
  },
  {
   "cell_type": "code",
   "execution_count": 28,
   "metadata": {},
   "outputs": [],
   "source": [
    "# Make column 'Frailty_Score the last column\n",
    "# Make column 'Frailty_Score' the last column\n",
    "cols = df.columns.tolist()\n",
    "cols.append(cols.pop(cols.index('Frailty_Score')))\n",
    "df = df[cols]\n",
    "\n"
   ]
  },
  {
   "cell_type": "code",
   "execution_count": null,
   "metadata": {},
   "outputs": [],
   "source": [
    "# Save the dataframe as a excel file\n",
    "df.to_excel('./global_dataset.xlsx', index=False)"
   ]
  },
  {
   "cell_type": "markdown",
   "metadata": {},
   "source": [
    "Models\n",
    "    Tree based models\n",
    "        Decision Trees\n",
    "        Random Forest\n",
    "        XGboost or LightGBM (sequential)\n",
    "        Gams\n",
    "        Rule-based (RuleFit)\n",
    "    ->  Ensemble Gams + Rule-based Model ->\n",
    "            Average of predictors ?\n",
    "            Meta-model that learns how to best combine the predictions of the two models !!!!\n",
    "\n",
    "Explainability\n",
    "    Partial Dependence Plots or\n",
    "    Individual Conditional Expectation (ICE)\n",
    "    SHAP and LIME (for additional interpretability)\n",
    "->  Domain Experts (meeting with the doctors ???? ) \n",
    "\n"
   ]
  }
 ],
 "metadata": {
  "kernelspec": {
   "display_name": "py39",
   "language": "python",
   "name": "python3"
  },
  "language_info": {
   "codemirror_mode": {
    "name": "ipython",
    "version": 3
   },
   "file_extension": ".py",
   "mimetype": "text/x-python",
   "name": "python",
   "nbconvert_exporter": "python",
   "pygments_lexer": "ipython3",
   "version": "3.9.16"
  },
  "orig_nbformat": 4
 },
 "nbformat": 4,
 "nbformat_minor": 2
}
