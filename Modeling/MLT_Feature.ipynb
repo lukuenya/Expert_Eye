{
 "cells": [
  {
   "cell_type": "code",
   "execution_count": 1,
   "metadata": {},
   "outputs": [],
   "source": [
    "# Multi-Task Feature Learning using NumPy and SciPy\n",
    "import numpy as np\n",
    "from scipy.optimize import minimize\n",
    "import matplotlib.pyplot as plt\n",
    "from custom_functions import processing\n",
    "import pandas as pd "
   ]
  },
  {
   "cell_type": "code",
   "execution_count": 2,
   "metadata": {},
   "outputs": [
    {
     "data": {
      "text/html": [
       "<div>\n",
       "<style scoped>\n",
       "    .dataframe tbody tr th:only-of-type {\n",
       "        vertical-align: middle;\n",
       "    }\n",
       "\n",
       "    .dataframe tbody tr th {\n",
       "        vertical-align: top;\n",
       "    }\n",
       "\n",
       "    .dataframe thead th {\n",
       "        text-align: right;\n",
       "    }\n",
       "</style>\n",
       "<table border=\"1\" class=\"dataframe\">\n",
       "  <thead>\n",
       "    <tr style=\"text-align: right;\">\n",
       "      <th></th>\n",
       "      <th>Gender</th>\n",
       "      <th>VINCQ32DDN</th>\n",
       "      <th>VINICODEX003</th>\n",
       "      <th>FROPCOM0001</th>\n",
       "      <th>FROPCOM0005</th>\n",
       "      <th>FROPCOM0006_S1_</th>\n",
       "      <th>FROPCOM0006_S2_</th>\n",
       "      <th>FROPCOM0006_S3_</th>\n",
       "      <th>FROPCOM0006_S4_</th>\n",
       "      <th>FROPCOM0006_S5_</th>\n",
       "      <th>...</th>\n",
       "      <th>HADS_D_Score</th>\n",
       "      <th>grip</th>\n",
       "      <th>walk_time_4m</th>\n",
       "      <th>Item_1</th>\n",
       "      <th>Item_2</th>\n",
       "      <th>Item_3</th>\n",
       "      <th>Item_4</th>\n",
       "      <th>Item_5</th>\n",
       "      <th>Fried_Score</th>\n",
       "      <th>Fried_State</th>\n",
       "    </tr>\n",
       "  </thead>\n",
       "  <tbody>\n",
       "    <tr>\n",
       "      <th>0</th>\n",
       "      <td>0</td>\n",
       "      <td>76.0</td>\n",
       "      <td>0.0</td>\n",
       "      <td>0.0</td>\n",
       "      <td>3.0</td>\n",
       "      <td>NaN</td>\n",
       "      <td>NaN</td>\n",
       "      <td>NaN</td>\n",
       "      <td>NaN</td>\n",
       "      <td>1.0</td>\n",
       "      <td>...</td>\n",
       "      <td>9</td>\n",
       "      <td>NaN</td>\n",
       "      <td>8.45</td>\n",
       "      <td>0.0</td>\n",
       "      <td>0</td>\n",
       "      <td>1.0</td>\n",
       "      <td>1.0</td>\n",
       "      <td>NaN</td>\n",
       "      <td>2</td>\n",
       "      <td>0</td>\n",
       "    </tr>\n",
       "    <tr>\n",
       "      <th>1</th>\n",
       "      <td>0</td>\n",
       "      <td>75.0</td>\n",
       "      <td>1.0</td>\n",
       "      <td>2.0</td>\n",
       "      <td>3.0</td>\n",
       "      <td>0.0</td>\n",
       "      <td>0.0</td>\n",
       "      <td>0.0</td>\n",
       "      <td>0.0</td>\n",
       "      <td>0.0</td>\n",
       "      <td>...</td>\n",
       "      <td>9</td>\n",
       "      <td>21.5</td>\n",
       "      <td>6.11</td>\n",
       "      <td>0.0</td>\n",
       "      <td>0</td>\n",
       "      <td>1.0</td>\n",
       "      <td>1.0</td>\n",
       "      <td>1.0</td>\n",
       "      <td>3</td>\n",
       "      <td>1</td>\n",
       "    </tr>\n",
       "    <tr>\n",
       "      <th>2</th>\n",
       "      <td>0</td>\n",
       "      <td>67.0</td>\n",
       "      <td>0.0</td>\n",
       "      <td>0.0</td>\n",
       "      <td>3.0</td>\n",
       "      <td>0.0</td>\n",
       "      <td>0.0</td>\n",
       "      <td>0.0</td>\n",
       "      <td>0.0</td>\n",
       "      <td>0.0</td>\n",
       "      <td>...</td>\n",
       "      <td>10</td>\n",
       "      <td>23.2</td>\n",
       "      <td>20.00</td>\n",
       "      <td>0.0</td>\n",
       "      <td>0</td>\n",
       "      <td>0.0</td>\n",
       "      <td>1.0</td>\n",
       "      <td>1.0</td>\n",
       "      <td>2</td>\n",
       "      <td>0</td>\n",
       "    </tr>\n",
       "    <tr>\n",
       "      <th>3</th>\n",
       "      <td>0</td>\n",
       "      <td>72.0</td>\n",
       "      <td>1.0</td>\n",
       "      <td>0.0</td>\n",
       "      <td>1.0</td>\n",
       "      <td>NaN</td>\n",
       "      <td>NaN</td>\n",
       "      <td>NaN</td>\n",
       "      <td>NaN</td>\n",
       "      <td>NaN</td>\n",
       "      <td>...</td>\n",
       "      <td>15</td>\n",
       "      <td>17.7</td>\n",
       "      <td>4.87</td>\n",
       "      <td>0.0</td>\n",
       "      <td>1</td>\n",
       "      <td>0.0</td>\n",
       "      <td>0.0</td>\n",
       "      <td>1.0</td>\n",
       "      <td>2</td>\n",
       "      <td>0</td>\n",
       "    </tr>\n",
       "    <tr>\n",
       "      <th>4</th>\n",
       "      <td>1</td>\n",
       "      <td>69.0</td>\n",
       "      <td>1.0</td>\n",
       "      <td>0.0</td>\n",
       "      <td>0.0</td>\n",
       "      <td>0.0</td>\n",
       "      <td>0.0</td>\n",
       "      <td>0.0</td>\n",
       "      <td>0.0</td>\n",
       "      <td>0.0</td>\n",
       "      <td>...</td>\n",
       "      <td>10</td>\n",
       "      <td>40.0</td>\n",
       "      <td>3.48</td>\n",
       "      <td>0.0</td>\n",
       "      <td>0</td>\n",
       "      <td>0.0</td>\n",
       "      <td>0.0</td>\n",
       "      <td>1.0</td>\n",
       "      <td>1</td>\n",
       "      <td>0</td>\n",
       "    </tr>\n",
       "  </tbody>\n",
       "</table>\n",
       "<p>5 rows × 821 columns</p>\n",
       "</div>"
      ],
      "text/plain": [
       "   Gender  VINCQ32DDN  VINICODEX003  FROPCOM0001  FROPCOM0005  \\\n",
       "0       0        76.0           0.0          0.0          3.0   \n",
       "1       0        75.0           1.0          2.0          3.0   \n",
       "2       0        67.0           0.0          0.0          3.0   \n",
       "3       0        72.0           1.0          0.0          1.0   \n",
       "4       1        69.0           1.0          0.0          0.0   \n",
       "\n",
       "   FROPCOM0006_S1_  FROPCOM0006_S2_  FROPCOM0006_S3_  FROPCOM0006_S4_  \\\n",
       "0              NaN              NaN              NaN              NaN   \n",
       "1              0.0              0.0              0.0              0.0   \n",
       "2              0.0              0.0              0.0              0.0   \n",
       "3              NaN              NaN              NaN              NaN   \n",
       "4              0.0              0.0              0.0              0.0   \n",
       "\n",
       "   FROPCOM0006_S5_  ...  HADS_D_Score  grip  walk_time_4m  Item_1  Item_2  \\\n",
       "0              1.0  ...             9   NaN          8.45     0.0       0   \n",
       "1              0.0  ...             9  21.5          6.11     0.0       0   \n",
       "2              0.0  ...            10  23.2         20.00     0.0       0   \n",
       "3              NaN  ...            15  17.7          4.87     0.0       1   \n",
       "4              0.0  ...            10  40.0          3.48     0.0       0   \n",
       "\n",
       "   Item_3  Item_4  Item_5  Fried_Score  Fried_State  \n",
       "0     1.0     1.0     NaN            2            0  \n",
       "1     1.0     1.0     1.0            3            1  \n",
       "2     0.0     1.0     1.0            2            0  \n",
       "3     0.0     0.0     1.0            2            0  \n",
       "4     0.0     0.0     1.0            1            0  \n",
       "\n",
       "[5 rows x 821 columns]"
      ]
     },
     "execution_count": 2,
     "metadata": {},
     "output_type": "execute_result"
    }
   ],
   "source": [
    "# import data\n",
    "file_path = 'P:\\DATA_OCT_22\\Expert_Eye\\Dataset\\Data\\data_v10.xlsx'\n",
    "dataset = pd.read_excel(file_path)\n",
    "dataset = dataset.drop(['Foldername'], axis=1)\n",
    "dataset.head()"
   ]
  },
  {
   "cell_type": "code",
   "execution_count": null,
   "metadata": {},
   "outputs": [],
   "source": [
    "data = pd"
   ]
  },
  {
   "cell_type": "code",
   "execution_count": 3,
   "metadata": {},
   "outputs": [
    {
     "data": {
      "text/plain": [
       "(97, 821)"
      ]
     },
     "execution_count": 3,
     "metadata": {},
     "output_type": "execute_result"
    }
   ],
   "source": [
    "data_imputed, _ = processing(dataset, 5, [3,5,7,9,11], False)\n",
    "data_imputed.shape"
   ]
  },
  {
   "cell_type": "code",
   "execution_count": 4,
   "metadata": {},
   "outputs": [
    {
     "data": {
      "text/plain": [
       "array([[ 0.        , 76.        ,  0.        , ...,  0.72727273,\n",
       "         2.        ,  0.        ],\n",
       "       [ 0.        , 75.        ,  1.        , ...,  1.        ,\n",
       "         3.        ,  1.        ],\n",
       "       [ 0.        , 67.        ,  0.        , ...,  1.        ,\n",
       "         2.        ,  0.        ],\n",
       "       ...,\n",
       "       [ 0.        , 72.        ,  0.        , ...,  0.72727273,\n",
       "         0.        ,  0.        ],\n",
       "       [ 1.        , 70.        ,  0.        , ...,  0.81818182,\n",
       "         1.        ,  0.        ],\n",
       "       [ 0.        , 67.        ,  1.        , ...,  0.81818182,\n",
       "         2.        ,  0.        ]])"
      ]
     },
     "execution_count": 4,
     "metadata": {},
     "output_type": "execute_result"
    }
   ],
   "source": [
    "data_imputed"
   ]
  },
  {
   "cell_type": "code",
   "execution_count": 6,
   "metadata": {},
   "outputs": [],
   "source": [
    "# feature names\n",
    "feature_names = dataset.drop(['Fried_State','Fried_Score','Frailty_State','Frailty_Score', \n",
    "                              'Item_1', 'Item_2', 'Item_3', 'Item_4', 'Item_5', \n",
    "                              'Weight_Diff', 'HADS_D_Score', 'walk_time_4m', 'EXAMCLIN02', 'grip'], axis=1).columns.to_list()\n",
    "\n",
    "# Features and Targets\n",
    "X = dataset.drop(['Fried_State','Fried_Score','Frailty_State','Frailty_Score',\n",
    "                  'Item_1','Item_2','Item_3','Item_4','Item_5',\n",
    "                  'Weight_Diff', 'HADS_D_Score','walk_time_4m','EXAMCLIN02','grip'], axis=1).values\n",
    "\n",
    "# The two tasks are Fried_State and Frailty_State\n",
    "y = dataset[['Fried_State','Frailty_State']].values # The two tasks are 'Fried_State' and 'Frailty_State'\n"
   ]
  },
  {
   "cell_type": "code",
   "execution_count": 7,
   "metadata": {},
   "outputs": [],
   "source": [
    "# Impute missing values \n",
    "X_imputed, _ = processing(X, n_splits=5, k_values=[1, 3, 5, 7, 9], verbose=False)"
   ]
  },
  {
   "cell_type": "code",
   "execution_count": 86,
   "metadata": {},
   "outputs": [
    {
     "data": {
      "text/plain": [
       "(97, 807)"
      ]
     },
     "execution_count": 86,
     "metadata": {},
     "output_type": "execute_result"
    }
   ],
   "source": [
    "X_imputed.shape"
   ]
  },
  {
   "cell_type": "code",
   "execution_count": 74,
   "metadata": {},
   "outputs": [],
   "source": [
    "# Define the objective function with Focal Loss and a regularization term for feature sharing\n",
    "def objective_function_focal(params, X, y, lambda_reg=0.1, alpha=0.25, gamma=2.0):\n",
    "    num_features = X.shape[1]\n",
    "    num_tasks = y.shape[1]\n",
    "    \n",
    "    # Reshape params into W (common feature matrix)\n",
    "    W = params.reshape((num_features, num_tasks))\n",
    "    \n",
    "    # Compute the predictions (logits)\n",
    "    logits = X.dot(W)\n",
    "\n",
    "    # Clip logits for numerical stability       [TO DIG]\n",
    "    #clipped_logits = np.clip(logits, -500, 500)\n",
    "    \n",
    "    # Compute probabilities using sigmoid function\n",
    "    #probs = 1 / (1 + np.exp(-clipped_logits))\n",
    "    probs = 1 / (1 + np.exp(-logits))\n",
    "\n",
    "    # Clip probabilities for numerical stability    [TO DIG]\n",
    "    probs = np.clip(probs, 1e-15, 1 - 1e-15)\n",
    "    \n",
    "    # Compute the Focal Loss for each task\n",
    "    loss = -np.sum(alpha * ((1 - probs) ** gamma) * y * np.log(probs) + (1 - alpha) * (probs ** gamma) * (1 - y) * np.log(1 - probs))\n",
    "    \n",
    "    # Add regularization term (Frobenius norm)\n",
    "    loss += lambda_reg * np.linalg.norm(W, 'fro')\n",
    "    \n",
    "    return loss\n",
    "    "
   ]
  },
  {
   "cell_type": "code",
   "execution_count": 75,
   "metadata": {},
   "outputs": [
    {
     "name": "stderr",
     "output_type": "stream",
     "text": [
      "C:\\Users\\matth\\AppData\\Local\\Temp\\ipykernel_13632\\3644959029.py:17: RuntimeWarning: overflow encountered in exp\n",
      "  probs = 1 / (1 + np.exp(-logits))\n"
     ]
    }
   ],
   "source": [
    "# Initial guess for the common feature matrix W\n",
    "initial_guess = np.random.rand(X_imputed.shape[1] * y.shape[1])\n",
    "\n",
    "# Run the optimization to minimize the objective function with Focal Loss\n",
    "result_focal = minimize(fun=objective_function_focal, \n",
    "                        x0=initial_guess, \n",
    "                        args=(X_imputed, y, 0.1, 0.25, 2.0), \n",
    "                        method='L-BFGS-B')\n"
   ]
  },
  {
   "cell_type": "code",
   "execution_count": 76,
   "metadata": {},
   "outputs": [
    {
     "data": {
      "text/plain": [
       "array([[-0.004,  0.002],\n",
       "       [-0.005, -0.006],\n",
       "       [-0.002,  0.001],\n",
       "       ...,\n",
       "       [-0.003,  0.001],\n",
       "       [ 0.005,  0.003],\n",
       "       [-0.001, -0.005]])"
      ]
     },
     "execution_count": 76,
     "metadata": {},
     "output_type": "execute_result"
    }
   ],
   "source": [
    "# Extract the optimized W (common feature matrix) for Focal Loss\n",
    "optimized_W_focal = result_focal.x.reshape((X_imputed.shape[1], y.shape[1]))\n",
    "optimized_W_focal\n"
   ]
  },
  {
   "cell_type": "code",
   "execution_count": 25,
   "metadata": {},
   "outputs": [],
   "source": [
    "# Define the objective function with Hinge Loss and a regularization term for feature sharing\n",
    "def objective_function_hinge(params, X, y, lambda_reg=0.1):\n",
    "    num_features = X.shape[1]\n",
    "    num_tasks = y.shape[1]\n",
    "    \n",
    "    # Reshape params into W (common feature matrix)\n",
    "    W = params.reshape((num_features, num_tasks))\n",
    "    \n",
    "    # Compute the predictions (logits)\n",
    "    logits = X.dot(W)\n",
    "    \n",
    "    # Convert labels to +1 and -1 for hinge loss\n",
    "    y_hinge = 2 * y - 1\n",
    "    \n",
    "    # Compute the Hinge Loss for each task\n",
    "    loss = np.sum(np.maximum(0, 1 - y_hinge * logits))\n",
    "    \n",
    "    # Add regularization term (Frobenius norm)\n",
    "    loss += lambda_reg * np.linalg.norm(W, 'fro')\n",
    "    \n",
    "    return loss\n"
   ]
  },
  {
   "cell_type": "code",
   "execution_count": 26,
   "metadata": {},
   "outputs": [],
   "source": [
    "# intitial guess for the common feature matrix W\n",
    "initial_guess2 = np.random.rand(X_imputed.shape[1] * y.shape[1])\n",
    "\n",
    "# Run the optimization to minimize the objective function with Hinge Loss\n",
    "result_hinge = minimize(\n",
    "    fun=objective_function_hinge, \n",
    "    x0=initial_guess2, \n",
    "    args=(X_imputed, y, 0.1),  # lambda_reg set to 0.1\n",
    "    method='L-BFGS-B'\n",
    ")"
   ]
  },
  {
   "cell_type": "code",
   "execution_count": 27,
   "metadata": {},
   "outputs": [
    {
     "data": {
      "text/plain": [
       "array([[ 0.13709767,  0.62500313],\n",
       "       [-0.41257493,  0.05149674],\n",
       "       [ 0.94392977,  0.65159145],\n",
       "       ...,\n",
       "       [ 0.3680538 ,  0.86526171],\n",
       "       [ 0.07399356,  0.37472171],\n",
       "       [ 0.32130569,  0.98096245]])"
      ]
     },
     "execution_count": 27,
     "metadata": {},
     "output_type": "execute_result"
    }
   ],
   "source": [
    "# Extract the optimized W (common feature matrix) for Hinge Loss\n",
    "optimized_W_hinge = result_hinge.x.reshape((X_imputed.shape[1], y.shape[1]))\n",
    "optimized_W_hinge\n"
   ]
  },
  {
   "cell_type": "code",
   "execution_count": null,
   "metadata": {},
   "outputs": [],
   "source": [
    "np.set_printoptions(suppress=True, )\n",
    "list(optimized_W_hinge.round(2))"
   ]
  },
  {
   "cell_type": "code",
   "execution_count": 39,
   "metadata": {},
   "outputs": [
    {
     "data": {
      "text/plain": [
       "Text(0.5, 0, 'Features')"
      ]
     },
     "execution_count": 39,
     "metadata": {},
     "output_type": "execute_result"
    },
    {
     "data": {
      "image/png": "[encoded data removed]",
      "text/plain": [
       "<Figure size 640x480 with 1 Axes>"
      ]
     },
     "metadata": {},
     "output_type": "display_data"
    }
   ],
   "source": [
    "plt.spy(optimized_W_hinge.T)\n",
    "plt.ylabel('Tasks')\n",
    "plt.xlabel('Features')"
   ]
  },
  {
   "cell_type": "code",
   "execution_count": 40,
   "metadata": {},
   "outputs": [],
   "source": [
    "# Create a mapping\n",
    "feature_to_weight = {}\n",
    "for i, feature in enumerate(feature_names):\n",
    "    feature_to_weight[feature] = optimized_W_hinge[i, :]\n",
    "\n"
   ]
  },
  {
   "cell_type": "code",
   "execution_count": null,
   "metadata": {},
   "outputs": [],
   "source": [
    "feature_to_weight"
   ]
  },
  {
   "cell_type": "code",
   "execution_count": 77,
   "metadata": {},
   "outputs": [
    {
     "data": {
      "image/png": "[encoded data removed]",
      "text/plain": [
       "<Figure size 1200x600 with 2 Axes>"
      ]
     },
     "metadata": {},
     "output_type": "display_data"
    },
    {
     "data": {
      "text/plain": [
       "(['zero_crossing_SPD_ML_YO',\n",
       "  'total_power_Power_Spectrum_Density_ML_YF',\n",
       "  'zero_crossing_SPD_ML_YF',\n",
       "  'zero_crossing_SPD_AP_YO',\n",
       "  'MFESCALE_SCORE',\n",
       "  'romberg_EyesOpen_Score',\n",
       "  'zero_crossing_SPD_AP_YF',\n",
       "  'energy_content_above_2_Power_Spectrum_Density_ML_YF',\n",
       "  'FROPCOM0004_SQ001_SQ001__RAMIPRIL',\n",
       "  'FROPCOM0004_SQ008_SQ001__ELIQUIS'],\n",
       " ['total_power_Power_Spectrum_Density_ML_YF',\n",
       "  'zero_crossing_SPD_ML_YO',\n",
       "  'zero_crossing_SPD_ML_YF',\n",
       "  'zero_crossing_SPD_AP_YO',\n",
       "  'energy_content_05_2_Power_Spectrum_Density_ML_YF',\n",
       "  'MFESCALE_SCORE',\n",
       "  'zero_crossing_SPD_AP_YF',\n",
       "  'FROPCOM0004_SQ001_SQ001__TAHOR',\n",
       "  'FROPCOM0004_SQ006_SQ002__100_mg',\n",
       "  'FROPCOM0004_SQ001_SQ001__EXFORGE'])"
      ]
     },
     "execution_count": 77,
     "metadata": {},
     "output_type": "execute_result"
    }
   ],
   "source": [
    "# Calculate the absolute feature importance for each task\n",
    "feature_importance_task1 = np.abs(optimized_W_hinge[:, 0])\n",
    "feature_importance_task2 = np.abs(optimized_W_hinge[:, 1])\n",
    "\n",
    "# Get the indices of the sorted feature importances for each task\n",
    "sorted_indices_task1 = np.argsort(feature_importance_task1)[::-1]  # For 'Frailty_State'\n",
    "sorted_indices_task2 = np.argsort(feature_importance_task2)[::-1]  # For 'Fried_State'\n",
    "\n",
    "# Get the names of the top 3 important features for demonstration\n",
    "# Note: You can get the top N important features based on your needs\n",
    "top_features_task1 = [feature_names[i] for i in sorted_indices_task1[:10]]\n",
    "top_features_task2 = [feature_names[i] for i in sorted_indices_task2[:10]]\n",
    "\n",
    "# Plotting the feature importances for the two tasks\n",
    "plt.figure(figsize=(12, 6))\n",
    "\n",
    "plt.subplot(1, 2, 1)\n",
    "plt.barh(top_features_task1, feature_importance_task1[sorted_indices_task1[:10]])\n",
    "plt.xlabel('Feature Importance')\n",
    "plt.title('Top 10 Important Features for Frailty_State')\n",
    "\n",
    "plt.subplot(1, 2, 2)\n",
    "plt.barh(top_features_task2, feature_importance_task2[sorted_indices_task2[:10]])\n",
    "plt.xlabel('Feature Importance')\n",
    "plt.title('Top 10 Important Features for Fried_State')\n",
    "\n",
    "plt.tight_layout()\n",
    "plt.show()\n",
    "\n",
    "(top_features_task1, top_features_task2)"
   ]
  },
  {
   "cell_type": "code",
   "execution_count": 78,
   "metadata": {},
   "outputs": [
    {
     "name": "stdout",
     "output_type": "stream",
     "text": [
      "(97, 2)\n",
      "(97, 2)\n"
     ]
    }
   ],
   "source": [
    "# Feature transformation\n",
    "X_transformed_hinge = X_imputed.dot(optimized_W_hinge)\n",
    "X_transformed_focal = X_imputed.dot(optimized_W_focal)\n",
    "\n",
    "print(X_transformed_hinge.shape)\n",
    "print(X_transformed_focal.shape)\n",
    "\n"
   ]
  },
  {
   "cell_type": "code",
   "execution_count": null,
   "metadata": {},
   "outputs": [],
   "source": [
    "np.set_printoptions(suppress=True, )\n",
    "X_transformed_focal.round(2)"
   ]
  },
  {
   "cell_type": "markdown",
   "metadata": {},
   "source": [
    "## Feature Selection based on the W matrix"
   ]
  },
  {
   "cell_type": "code",
   "execution_count": 80,
   "metadata": {},
   "outputs": [],
   "source": [
    "threshold = 0.5\n",
    "\n",
    "abs_sum_weights_hinge = np.sum(np.abs(optimized_W_hinge), axis=1)\n",
    "abs_sum_weights_focal = np.sum(np.abs(optimized_W_focal), axis=1)"
   ]
  },
  {
   "cell_type": "code",
   "execution_count": 81,
   "metadata": {},
   "outputs": [],
   "source": [
    "# Indices of the features with absolute sum of weights greater than the threshold\n",
    "significant_features_indices_hinge = np.where(abs_sum_weights_hinge > threshold)[0]\n",
    "significant_features_indices_focal = np.where(abs_sum_weights_focal > threshold)[0]\n",
    "\n",
    "\n",
    "# Extract the names of significant features\n",
    "significant_features_names_hinge = [feature_names[i] for i in significant_features_indices_hinge]\n",
    "significant_features_names_focal = [feature_names[i] for i in significant_features_indices_focal]"
   ]
  },
  {
   "cell_type": "code",
   "execution_count": 82,
   "metadata": {},
   "outputs": [],
   "source": [
    "X_reduced_hinge = X_imputed[:, significant_features_indices_hinge]\n",
    "X_reduced_focal = X_imputed[:, significant_features_indices_focal]"
   ]
  },
  {
   "cell_type": "code",
   "execution_count": 83,
   "metadata": {},
   "outputs": [
    {
     "name": "stdout",
     "output_type": "stream",
     "text": [
      "Number of significant features for Hinge Loss: 678\n",
      "Number of significant features for Focal Loss: 0\n",
      "\n",
      "Significant features for Hinge Loss: ['Gender', 'VINICODEX003', 'FROPCOM0005', 'FROPCOM0006_S1_', 'FROPCOM0006_S2_', 'FROPCOM0006_S3_', 'FROPCOM0006_S4_', 'FROPCOM0006_S5_', 'FROPCOM0006_S6_', 'FROPCOM0006_S7_', 'FROPCOM0006_S8_', 'FROPCOM0006_Total', 'FROPCOM0007_SQ002_', 'FROPCOM0007_SQ003_', 'FROPCOM0007_SQ004_', 'FROPCOM0007_SQ005_', 'FROPCOM0007_SQ006_', 'FROPCOM0007_SQ008_', 'FROPCOM0007_SQ023_', 'FROPCOM0007_SQ009_', 'FROPCOM0007_SQ010_', 'FROPCOM0007_SQ012_', 'FROPCOM0007_SQ013_', 'FROPCOM0007_SQ014_', 'FROPCOM0007_SQ015_', 'FROPCOM0007_SQ016_', 'FROPCOM0007_SQ017_', 'FROPCOM0007_SQ021_', 'FROPCOM0007_SQ024_', 'FROPCOM0007_Total', 'FROPCOM0008_SQ001_', 'FROPCOM0008_SQ002_', 'FROPCOM0009', 'FROPCOM0010', 'FROPCOM0012_SQ001_', 'FROPCOM0012_SQ002_', 'FROPCOM0013', 'FROPCOM0014', 'FROPCOM0016', 'FROPCOM0017', 'FROPCOM0018', 'FROPCOM0019', 'FROPCOM0021', 'FROPCOM0023', 'FROPCOM0024', 'FROPCOM0025', 'FROPCOM0026_SQ001_', 'FROPCOM0026_SQ002_', 'FROPCOM0026_SQ003_', 'FROPCOM0026_SQ004_', 'FROPCOM0027', 'EXAMCLIN023', 'EXAMCLIN022', 'Past_Weight', 'Height', 'FORCEPREHENSION', 'SPPB9', 'MNADEPISTAGESCORE', 'SF3601', 'SF3602', 'SF3606', 'SF3610', 'SF3604_SCORE', 'SF3605_SCORE', 'SF3609_SCORE', 'SF3607_08', 'Epice_Score', 'Fragire_Score', 'SAPAS_Score', 'AcuiteVisuelle_Score', 'Icope_Score', 'SPPB_Pos_Score', 'AvgSpeed', 'CycleVariability', 'DoubleStance', 'MeanStepDuration', 'RoliTronc', 'Springiness', 'Smoothness', 'Steadiness', 'Stability', 'Synchronisation', 'romberg_EyesOpen_Speed', 'romberg_EyesClosed_Speed', 'romberg_EyesOpen_Surface', 'romberg_EyesOpen_LateralVariance', 'romberg_EyesClosed_LateralVariance', 'romberg_EyesOpen_Score', 'romberg_EyesClosed_Score', 'MFESCALE_SCORE', 'mean_value_ML_YF', 'mean_value_AP_YF', 'mean_distance_ML_YF', 'mean_distance_AP_YF', 'mean_distance_Radius_YF', 'maximal_distance_ML_YF', 'maximal_distance_AP_YF', 'maximal_distance_Radius_YF', 'rms_ML_YF', 'rms_AP_YF', 'rms_Radius_YF', 'range_ML_YF', 'range_AP_YF', 'range_ML_AND_AP_YF', 'range_ratio_ML_AND_AP_YF', 'planar_deviation_ML_AND_AP_YF', 'coefficient_sway_direction_ML_AND_AP_YF', 'principal_sway_direction_ML_AND_AP_YF', 'mean_velocity_ML_YF', 'mean_velocity_AP_YF', 'sway_area_per_second_ML_AND_AP_YF', 'phase_plane_parameter_ML_YF', 'fractal_dimension_ML_AND_AP_YF', 'zero_crossing_SPD_ML_YF', 'peak_velocity_pos_SPD_ML_YF', 'peak_velocity_neg_SPD_ML_YF', 'peak_velocity_all_SPD_ML_YF', 'zero_crossing_SPD_AP_YF', 'peak_velocity_pos_SPD_AP_YF', 'peak_velocity_neg_SPD_AP_YF', 'mean_peak_Sway_Density_YF', 'mean_frequency_AP_YF', 'mean_frequency_ML_AND_AP_YF', 'total_power_Power_Spectrum_Density_ML_YF', 'power_frequency_50_Power_Spectrum_Density_ML_YF', 'power_frequency_50_Power_Spectrum_Density_AP_YF', 'power_frequency_95_Power_Spectrum_Density_AP_YF', 'frequency_mode_Power_Spectrum_Density_ML_YF', 'centroid_frequency_Power_Spectrum_Density_AP_YF', 'frequency_dispersion_Power_Spectrum_Density_AP_YF', 'energy_content_below_05_Power_Spectrum_Density_ML_YF', 'energy_content_below_05_Power_Spectrum_Density_AP_YF', 'energy_content_05_2_Power_Spectrum_Density_ML_YF', 'energy_content_above_2_Power_Spectrum_Density_ML_YF', 'energy_content_above_2_Power_Spectrum_Density_AP_YF', 'frequency_quotient_Power_Spectrum_Density_ML_YF', 'frequency_quotient_Power_Spectrum_Density_AP_YF', 'short_time_diffusion_Diffusion_ML_YF', 'long_time_diffusion_Diffusion_ML_YF', 'critical_time_Diffusion_ML_YF', 'critical_displacement_Diffusion_ML_YF', 'long_time_scaling_Diffusion_ML_YF', 'short_time_diffusion_Diffusion_AP_YF', 'long_time_diffusion_Diffusion_AP_YF', 'critical_time_Diffusion_AP_YF', 'critical_displacement_Diffusion_AP_YF', 'short_time_scaling_Diffusion_AP_YF', 'long_time_scaling_Diffusion_AP_YF', 'mean_value_ML_YO', 'mean_value_AP_YO', 'mean_distance_ML_YO', 'mean_distance_AP_YO', 'mean_distance_Radius_YO', 'maximal_distance_ML_YO', 'maximal_distance_AP_YO', 'maximal_distance_Radius_YO', 'rms_ML_YO', 'rms_AP_YO', 'rms_Radius_YO', 'range_ML_YO', 'range_AP_YO', 'range_ratio_ML_AND_AP_YO', 'planar_deviation_ML_AND_AP_YO', 'coefficient_sway_direction_ML_AND_AP_YO', 'principal_sway_direction_ML_AND_AP_YO', 'mean_velocity_ML_YO', 'mean_velocity_ML_AND_AP_YO', 'sway_area_per_second_ML_AND_AP_YO', 'phase_plane_parameter_ML_YO', 'phase_plane_parameter_AP_YO', 'fractal_dimension_ML_AND_AP_YO', 'zero_crossing_SPD_ML_YO', 'peak_velocity_pos_SPD_ML_YO', 'peak_velocity_all_SPD_ML_YO', 'zero_crossing_SPD_AP_YO', 'peak_velocity_pos_SPD_AP_YO', 'peak_velocity_neg_SPD_AP_YO', 'peak_velocity_all_SPD_AP_YO', 'mean_peak_Sway_Density_YO', 'mean_distance_peak_Sway_Density_YO', 'mean_frequency_ML_YO', 'mean_frequency_AP_YO', 'mean_frequency_ML_AND_AP_YO', 'total_power_Power_Spectrum_Density_AP_YO', 'power_frequency_50_Power_Spectrum_Density_ML_YO', 'power_frequency_50_Power_Spectrum_Density_AP_YO', 'power_frequency_95_Power_Spectrum_Density_ML_YO', 'frequency_mode_Power_Spectrum_Density_ML_YO', 'frequency_mode_Power_Spectrum_Density_AP_YO', 'centroid_frequency_Power_Spectrum_Density_ML_YO', 'centroid_frequency_Power_Spectrum_Density_AP_YO', 'frequency_dispersion_Power_Spectrum_Density_ML_YO', 'frequency_dispersion_Power_Spectrum_Density_AP_YO', 'energy_content_below_05_Power_Spectrum_Density_AP_YO', 'energy_content_05_2_Power_Spectrum_Density_ML_YO', 'energy_content_05_2_Power_Spectrum_Density_AP_YO', 'energy_content_above_2_Power_Spectrum_Density_ML_YO', 'energy_content_above_2_Power_Spectrum_Density_AP_YO', 'frequency_quotient_Power_Spectrum_Density_ML_YO', 'frequency_quotient_Power_Spectrum_Density_AP_YO', 'short_time_diffusion_Diffusion_ML_YO', 'long_time_diffusion_Diffusion_ML_YO', 'critical_displacement_Diffusion_ML_YO', 'short_time_scaling_Diffusion_ML_YO', 'long_time_scaling_Diffusion_ML_YO', 'short_time_diffusion_Diffusion_AP_YO', 'long_time_diffusion_Diffusion_AP_YO', 'critical_displacement_Diffusion_AP_YO', 'short_time_scaling_Diffusion_AP_YO', 'long_time_scaling_Diffusion_AP_YO', 'FROPCOM0004_SQ001_SQ001__AMLODIPINE', 'FROPCOM0004_SQ001_SQ001__APROVEL', 'FROPCOM0004_SQ001_SQ001__ASPEGIC', 'FROPCOM0004_SQ001_SQ001__ATORVASTATINE_', 'FROPCOM0004_SQ001_SQ001__BETAHISTINE', 'FROPCOM0004_SQ001_SQ001__CETIRIZINE', 'FROPCOM0004_SQ001_SQ001__CLARITHROMYCINE', 'FROPCOM0004_SQ001_SQ001__COAPROVEL', 'FROPCOM0004_SQ001_SQ001__COTRIATEC', 'FROPCOM0004_SQ001_SQ001__CÉTIRIZINE', 'FROPCOM0004_SQ001_SQ001__DAFALGAN', 'FROPCOM0004_SQ001_SQ001__DEBRIDAT', 'FROPCOM0004_SQ001_SQ001__DIPROSALIC', 'FROPCOM0004_SQ001_SQ001__DUATRAV_gtes', 'FROPCOM0004_SQ001_SQ001__DUGLATIDE__TRULICITY_', 'FROPCOM0004_SQ001_SQ001__ELIQUIS_', 'FROPCOM0004_SQ001_SQ001__ENALAPRIL_LERCANIDIPINE', 'FROPCOM0004_SQ001_SQ001__EXFORGE', 'FROPCOM0004_SQ001_SQ001__EZETIMIBE', 'FROPCOM0004_SQ001_SQ001__FELODIPINE_+_METOPROLOL', 'FROPCOM0004_SQ001_SQ001__GINKGO', 'FROPCOM0004_SQ001_SQ001__HYDROXYZINE', 'FROPCOM0004_SQ001_SQ001__INDAPAMIDE_AMLODIPINE', 'FROPCOM0004_SQ001_SQ001__IPERTEN', 'FROPCOM0004_SQ001_SQ001__IRBESARTAN_HYDROCHLOROTHIAZIDE', 'FROPCOM0004_SQ001_SQ001__IXPRIM', 'FROPCOM0004_SQ001_SQ001__JARDIANCE', 'FROPCOM0004_SQ001_SQ001__LATANOPROTS', 'FROPCOM0004_SQ001_SQ001__LERCANDIPINE', 'FROPCOM0004_SQ001_SQ001__LERCANIDIPINE', 'FROPCOM0004_SQ001_SQ001__LEVOTHYROXINE', 'FROPCOM0004_SQ001_SQ001__LEVOTHYROXINE_SODIQUE', 'FROPCOM0004_SQ001_SQ001__METFORMINE', 'FROPCOM0004_SQ001_SQ001__OMEPRAZOLE', 'FROPCOM0004_SQ001_SQ001__OMEXEL', 'FROPCOM0004_SQ001_SQ001__PARACETAMOL', 'FROPCOM0004_SQ001_SQ001__PAROXETINE', 'FROPCOM0004_SQ001_SQ001__PERINDOPRIL_INDAPAMIDE', 'FROPCOM0004_SQ001_SQ001__PRAVASTINE', 'FROPCOM0004_SQ001_SQ001__RAMIPRIL', 'FROPCOM0004_SQ001_SQ001__ROSUVASTATINE', 'FROPCOM0004_SQ001_SQ001__SIMVASTATINE', 'FROPCOM0004_SQ001_SQ001__STAGID_', 'FROPCOM0004_SQ001_SQ001__SYMBICORT', 'FROPCOM0004_SQ001_SQ001__TAHOR', 'FROPCOM0004_SQ001_SQ001__TANGANIL', 'FROPCOM0004_SQ001_SQ001__TARDYFERON', 'FROPCOM0004_SQ001_SQ001__TELMISARTAN_HYD', 'FROPCOM0004_SQ001_SQ001__VENTOLINE_', 'FROPCOM0004_SQ001_SQ001__VERATRAN', 'FROPCOM0004_SQ001_SQ001__VICTOZA', 'FROPCOM0004_SQ001_SQ001__VITAMINE_B12', 'FROPCOM0004_SQ001_SQ001__VITAMINE_D3', 'FROPCOM0004_SQ001_SQ001__ZOPICLONE', 'FROPCOM0004_SQ001_SQ001__nan', 'FROPCOM0004_SQ001_SQ002__0_4_mg_', 'FROPCOM0004_SQ001_SQ002__1_mg', 'FROPCOM0004_SQ001_SQ002__1_5_mg___5_mg', 'FROPCOM0004_SQ001_SQ002__1_8_mg', 'FROPCOM0004_SQ001_SQ002__10_mg', 'FROPCOM0004_SQ001_SQ002__100_mg', 'FROPCOM0004_SQ001_SQ002__100_mg_', 'FROPCOM0004_SQ001_SQ002__1000_mg', 'FROPCOM0004_SQ001_SQ002__150_mg', 'FROPCOM0004_SQ001_SQ002__150_mg___12_5_mg', 'FROPCOM0004_SQ001_SQ002__175_μg___88_μg', 'FROPCOM0004_SQ001_SQ002__2_5_mg', 'FROPCOM0004_SQ001_SQ002__20_mg', 'FROPCOM0004_SQ001_SQ002__20_mg___10_mg', 'FROPCOM0004_SQ001_SQ002__200_mg', 'FROPCOM0004_SQ001_SQ002__24_mg', 'FROPCOM0004_SQ001_SQ002__25_mg', 'FROPCOM0004_SQ001_SQ002__40_mg', 'FROPCOM0004_SQ001_SQ002__400_μg___12_μg', 'FROPCOM0004_SQ001_SQ002__5_mg', 'FROPCOM0004_SQ001_SQ002__5_mg_', 'FROPCOM0004_SQ001_SQ002__5_mg___12_5_mg', 'FROPCOM0004_SQ001_SQ002__5_mg___47_5_mg', 'FROPCOM0004_SQ001_SQ002__50_mg___12_5_mg', 'FROPCOM0004_SQ001_SQ002__500_mg', 'FROPCOM0004_SQ001_SQ002__7_5_mg', 'FROPCOM0004_SQ001_SQ002__700_mg_', 'FROPCOM0004_SQ001_SQ002__80_mg___12_5_mg', 'FROPCOM0004_SQ001_SQ002__80_mg___12_5mg', 'FROPCOM0004_SQ001_SQ002__850_mg', 'FROPCOM0004_SQ001_SQ002__A_la_demande_', 'FROPCOM0004_SQ001_SQ002__nan', 'FROPCOM0004_SQ001_SQ003__0_0_1', 'FROPCOM0004_SQ001_SQ003__1_à_2_bouffées_si_besoin', 'FROPCOM0004_SQ001_SQ003__1_à_2_bouffées_à_la_demande_', 'FROPCOM0004_SQ001_SQ003__1_0_0', 'FROPCOM0004_SQ001_SQ003__1_0_0_tous_les_3_jours', 'FROPCOM0004_SQ001_SQ003__1_0_1_', 'FROPCOM0004_SQ001_SQ003__1_1_1', 'FROPCOM0004_SQ001_SQ003__1_2_si_besoin', 'FROPCOM0004_SQ001_SQ003__1_semaine', 'FROPCOM0004_SQ001_SQ003__2_0_0__1_jour_sur_2_', 'FROPCOM0004_SQ001_SQ003__2_0_2', 'FROPCOM0004_SQ002_SQ001__ACIDE_ACETYLSALICYLIQUE', 'FROPCOM0004_SQ002_SQ001__ACIDE_FOLIQUE_', 'FROPCOM0004_SQ002_SQ001__ALPRAZOLAM', 'FROPCOM0004_SQ002_SQ001__AMLOR', 'FROPCOM0004_SQ002_SQ001__ATORVASTADINE', 'FROPCOM0004_SQ002_SQ001__ATORVASTATINE', 'FROPCOM0004_SQ002_SQ001__ATORVASTATINE_EVOLUGEN', 'FROPCOM0004_SQ002_SQ001__AZILECT', 'FROPCOM0004_SQ002_SQ001__BISOCE', 'FROPCOM0004_SQ002_SQ001__BISOPROLOL___HYDROCHOLOTHIDE', 'FROPCOM0004_SQ002_SQ001__CALCIUM___COLECALCIFEROL', 'FROPCOM0004_SQ002_SQ001__CALCIUM_CHOLECALCIFEROL', 'FROPCOM0004_SQ002_SQ001__CHONDROSTÉO', 'FROPCOM0004_SQ002_SQ001__COUMADINE', 'FROPCOM0004_SQ002_SQ001__DIAMICRON_', 'FROPCOM0004_SQ002_SQ001__DOXAZOSINE', 'FROPCOM0004_SQ002_SQ001__DUROGESIC', 'FROPCOM0004_SQ002_SQ001__ESOMEPRAZOLE', 'FROPCOM0004_SQ002_SQ001__EUCREAS', 'FROPCOM0004_SQ002_SQ001__EUPRESSYL', 'FROPCOM0004_SQ002_SQ001__FLUCONAZOLE', 'FROPCOM0004_SQ002_SQ001__GAVISCON', 'FROPCOM0004_SQ002_SQ001__GELTIM_LP', 'FROPCOM0004_SQ002_SQ001__HYDROCHLOROTHIAZIDE_IRBESARTAN', 'FROPCOM0004_SQ002_SQ001__JANUMET', 'FROPCOM0004_SQ002_SQ001__JANUVIA', 'FROPCOM0004_SQ002_SQ001__KARDEGIC_', 'FROPCOM0004_SQ002_SQ001__LASILIX', 'FROPCOM0004_SQ002_SQ001__LERCANIDIPINE', 'FROPCOM0004_SQ002_SQ001__LOSARTAN', 'FROPCOM0004_SQ002_SQ001__METFORMINE', 'FROPCOM0004_SQ002_SQ001__MONOPROST', 'FROPCOM0004_SQ002_SQ001__PERINDOPRIL', 'FROPCOM0004_SQ002_SQ001__PERMIXION', 'FROPCOM0004_SQ002_SQ001__PERMIXON', 'FROPCOM0004_SQ002_SQ001__PREGABALINE', 'FROPCOM0004_SQ002_SQ001__RAMIPRIL_', 'FROPCOM0004_SQ002_SQ001__ROSUVASTATINE', 'FROPCOM0004_SQ002_SQ001__SOTALOL', 'FROPCOM0004_SQ002_SQ001__SYMBICORT_', 'FROPCOM0004_SQ002_SQ001__TROSPIUM', 'FROPCOM0004_SQ002_SQ001__UVEDOSE', 'FROPCOM0004_SQ002_SQ001__VALSARTAN', 'FROPCOM0004_SQ002_SQ001__VENTOLINE_', 'FROPCOM0004_SQ002_SQ001__nan', 'FROPCOM0004_SQ002_SQ002__10_mg', 'FROPCOM0004_SQ002_SQ002__10_mg_', 'FROPCOM0004_SQ002_SQ002__100_mg', 'FROPCOM0004_SQ002_SQ002__100_mg_dose_', 'FROPCOM0004_SQ002_SQ002__1000_mg', 'FROPCOM0004_SQ002_SQ002__12_5_mg___50_mg', 'FROPCOM0004_SQ002_SQ002__160_mg', 'FROPCOM0004_SQ002_SQ002__160_mg_', 'FROPCOM0004_SQ002_SQ002__2_5_mg', 'FROPCOM0004_SQ002_SQ002__20_mg_', 'FROPCOM0004_SQ002_SQ002__200_μg', 'FROPCOM0004_SQ002_SQ002__21_mg', 'FROPCOM0004_SQ002_SQ002__25_mg', 'FROPCOM0004_SQ002_SQ002__30_mg', 'FROPCOM0004_SQ002_SQ002__300_mg', 'FROPCOM0004_SQ002_SQ002__300_mg___25_mg', 'FROPCOM0004_SQ002_SQ002__4_mg', 'FROPCOM0004_SQ002_SQ002__5_mg', 'FROPCOM0004_SQ002_SQ002__5_mg_', 'FROPCOM0004_SQ002_SQ002__5_mg___2_mg', 'FROPCOM0004_SQ002_SQ002__5_mg___6_25_mg_', 'FROPCOM0004_SQ002_SQ002__50_mg', 'FROPCOM0004_SQ002_SQ002__50_mg___1000_mg', 'FROPCOM0004_SQ002_SQ002__50_mg__1000_mg', 'FROPCOM0004_SQ002_SQ002__500_mg___400_UI', 'FROPCOM0004_SQ002_SQ002__60_mg_', 'FROPCOM0004_SQ002_SQ002__700_mg', 'FROPCOM0004_SQ002_SQ002__75_mg', 'FROPCOM0004_SQ002_SQ002__80_mg', 'FROPCOM0004_SQ002_SQ002__850_mg', 'FROPCOM0004_SQ002_SQ002__nan', 'FROPCOM0004_SQ002_SQ003__0_0_1', 'FROPCOM0004_SQ002_SQ003__0_1_0', 'FROPCOM0004_SQ002_SQ003__001', 'FROPCOM0004_SQ002_SQ003__001_2', 'FROPCOM0004_SQ002_SQ003__1_0_0', 'FROPCOM0004_SQ002_SQ003__1_0_0_si_besoin', 'FROPCOM0004_SQ002_SQ003__1_0_1', 'FROPCOM0004_SQ002_SQ003__1_0_1_', 'FROPCOM0004_SQ002_SQ003__1_2_0_1_', 'FROPCOM0004_SQ002_SQ003__111', 'FROPCOM0004_SQ002_SQ003__2_0_0', 'FROPCOM0004_SQ002_SQ003__A_la_demande_', 'FROPCOM0004_SQ002_SQ003__nan', 'FROPCOM0004_SQ002_SQ003__si_besoin', 'FROPCOM0004_SQ003_SQ001__AERIUS_', 'FROPCOM0004_SQ003_SQ001__ALFUZOZINE', 'FROPCOM0004_SQ003_SQ001__AMLODIPINE', 'FROPCOM0004_SQ003_SQ001__ASRADIPINE', 'FROPCOM0004_SQ003_SQ001__ATENOLOL', 'FROPCOM0004_SQ003_SQ001__ATORVASTATINE_', 'FROPCOM0004_SQ003_SQ001__BISOCE', 'FROPCOM0004_SQ003_SQ001__BISOPROLOL', 'FROPCOM0004_SQ003_SQ001__CALCIUM_+_CIT_D3', 'FROPCOM0004_SQ003_SQ001__CANDESARTAN', 'FROPCOM0004_SQ003_SQ001__COVERAM', 'FROPCOM0004_SQ003_SQ001__CYANOCOBALAMINE', 'FROPCOM0004_SQ003_SQ001__DAFLON', 'FROPCOM0004_SQ003_SQ001__DEXAMBUTOL', 'FROPCOM0004_SQ003_SQ001__DIAMICRON', 'FROPCOM0004_SQ003_SQ001__FLECAINE', 'FROPCOM0004_SQ003_SQ001__INEXIUM', 'FROPCOM0004_SQ003_SQ001__KARDEGIC', 'FROPCOM0004_SQ003_SQ001__LERCANIDIPINE', 'FROPCOM0004_SQ003_SQ001__LORMETAZEPAM', 'FROPCOM0004_SQ003_SQ001__METFORMINE', 'FROPCOM0004_SQ003_SQ001__OMEOPRAZOLE', 'FROPCOM0004_SQ003_SQ001__OXAZEPAM', 'FROPCOM0004_SQ003_SQ001__PARACETAMOL', 'FROPCOM0004_SQ003_SQ001__PERINDOPRIL', 'FROPCOM0004_SQ003_SQ001__PERINDOPRIL_AMLODIPINE', 'FROPCOM0004_SQ003_SQ001__PERMIXON', 'FROPCOM0004_SQ003_SQ001__PROPRANOLOL', 'FROPCOM0004_SQ003_SQ001__RAMIPRIL', 'FROPCOM0004_SQ003_SQ001__SIMVASTATINE', 'FROPCOM0004_SQ003_SQ001__TEMERIT', 'FROPCOM0004_SQ003_SQ001__TRULICITY_', 'FROPCOM0004_SQ003_SQ001__VERSATIS', 'FROPCOM0004_SQ003_SQ001__VILDAGLIPTINE', 'FROPCOM0004_SQ003_SQ001__XALATAN', 'FROPCOM0004_SQ003_SQ001__ZOLPIDEM', 'FROPCOM0004_SQ003_SQ001__nan', 'FROPCOM0004_SQ003_SQ002__0_25_mg_', 'FROPCOM0004_SQ003_SQ002__1_mg_', 'FROPCOM0004_SQ003_SQ002__10_mg', 'FROPCOM0004_SQ003_SQ002__10_mg_', 'FROPCOM0004_SQ003_SQ002__10_mg_LP', 'FROPCOM0004_SQ003_SQ002__1000_mg', 'FROPCOM0004_SQ003_SQ002__150_mg', 'FROPCOM0004_SQ003_SQ002__160_mg', 'FROPCOM0004_SQ003_SQ002__2_mg', 'FROPCOM0004_SQ003_SQ002__2_5_mg_', 'FROPCOM0004_SQ003_SQ002__20_mg', 'FROPCOM0004_SQ003_SQ002__200_mg_', 'FROPCOM0004_SQ003_SQ002__40_mg', 'FROPCOM0004_SQ003_SQ002__40_mg_', 'FROPCOM0004_SQ003_SQ002__400_mg', 'FROPCOM0004_SQ003_SQ002__5_mg', 'FROPCOM0004_SQ003_SQ002__5_mg_', 'FROPCOM0004_SQ003_SQ002__5_mg___12_5_mg', 'FROPCOM0004_SQ003_SQ002__50_mg', 'FROPCOM0004_SQ003_SQ002__50_ml', 'FROPCOM0004_SQ003_SQ002__500_mg', 'FROPCOM0004_SQ003_SQ002__60_mg', 'FROPCOM0004_SQ003_SQ002__7_5_mg', 'FROPCOM0004_SQ003_SQ002__700_mg', 'FROPCOM0004_SQ003_SQ002__75_mg', 'FROPCOM0004_SQ003_SQ002__850_mg', 'FROPCOM0004_SQ003_SQ002__850_mg_', 'FROPCOM0004_SQ003_SQ002__nan', 'FROPCOM0004_SQ003_SQ003__0_0_1', 'FROPCOM0004_SQ003_SQ003__0_0_1_', 'FROPCOM0004_SQ003_SQ003__0_1_0', 'FROPCOM0004_SQ003_SQ003__0_1_1', 'FROPCOM0004_SQ003_SQ003__1_par_mois', 'FROPCOM0004_SQ003_SQ003__1_0_0', 'FROPCOM0004_SQ003_SQ003__1_0_0_si_besoin', 'FROPCOM0004_SQ003_SQ003__1_0_1', 'FROPCOM0004_SQ003_SQ003__1_1_1', 'FROPCOM0004_SQ003_SQ003__2_0_0', 'FROPCOM0004_SQ003_SQ003__A_la_demande_', 'FROPCOM0004_SQ003_SQ003__nan', 'FROPCOM0004_SQ003_SQ003__si_besoin', 'FROPCOM0004_SQ004_SQ001__ALFUZOSINE', 'FROPCOM0004_SQ004_SQ001__ATROVASTATINE', 'FROPCOM0004_SQ004_SQ001__BISOPROLOL', 'FROPCOM0004_SQ004_SQ001__CALCIUM_500', 'FROPCOM0004_SQ004_SQ001__CITALOPRAM', 'FROPCOM0004_SQ004_SQ001__CLOPIDOGREL_ACCORD', 'FROPCOM0004_SQ004_SQ001__COUMADINE_', 'FROPCOM0004_SQ004_SQ001__COVERAM', 'FROPCOM0004_SQ004_SQ001__DOLIPRANE', 'FROPCOM0004_SQ004_SQ001__DOLIPRANE_', 'FROPCOM0004_SQ004_SQ001__ELISOR', 'FROPCOM0004_SQ004_SQ001__EUTHYROX', 'FROPCOM0004_SQ004_SQ001__FENOFIBRATE', 'FROPCOM0004_SQ004_SQ001__KARDEGIC', 'FROPCOM0004_SQ004_SQ001__KARDEGIC_', 'FROPCOM0004_SQ004_SQ001__KESTIN', 'FROPCOM0004_SQ004_SQ001__LAMALINE', 'FROPCOM0004_SQ004_SQ001__LECANIDIPINE', 'FROPCOM0004_SQ004_SQ001__METFORMINE', 'FROPCOM0004_SQ004_SQ001__NOVOMIX', 'FROPCOM0004_SQ004_SQ001__RABAPRAZOLE', 'FROPCOM0004_SQ004_SQ001__REFRESH_COLLYRE', 'FROPCOM0004_SQ004_SQ001__SIMVASTATINE', 'FROPCOM0004_SQ004_SQ001__SOTALOL', 'FROPCOM0004_SQ004_SQ001__TAPENDOL', 'FROPCOM0004_SQ004_SQ001__ULTIBRO', 'FROPCOM0004_SQ004_SQ001__UVEDOSE', 'FROPCOM0004_SQ004_SQ001__VENTOLINE', 'FROPCOM0004_SQ004_SQ002__0_4_ml', 'FROPCOM0004_SQ004_SQ002__10_mg', 'FROPCOM0004_SQ004_SQ002__10_mg_', 'FROPCOM0004_SQ004_SQ002__10_mg___5_mg', 'FROPCOM0004_SQ004_SQ002__100_mg', 'FROPCOM0004_SQ004_SQ002__1000_mg', 'FROPCOM0004_SQ004_SQ002__150_mg', 'FROPCOM0004_SQ004_SQ002__160_mg', 'FROPCOM0004_SQ004_SQ002__2_mg', 'FROPCOM0004_SQ004_SQ002__20_mg', 'FROPCOM0004_SQ004_SQ002__30_mg___10_mg___500_mg', 'FROPCOM0004_SQ004_SQ002__40_mg', 'FROPCOM0004_SQ004_SQ002__5_mg', 'FROPCOM0004_SQ004_SQ002__500_mg', 'FROPCOM0004_SQ004_SQ002__6_mg', 'FROPCOM0004_SQ004_SQ002__6_mg_', 'FROPCOM0004_SQ004_SQ002__75_mg', 'FROPCOM0004_SQ004_SQ002__75_mg_', 'FROPCOM0004_SQ004_SQ002__80_mg', 'FROPCOM0004_SQ004_SQ002__850_mg', 'FROPCOM0004_SQ004_SQ002__nan', 'FROPCOM0004_SQ004_SQ003__0_0_1', 'FROPCOM0004_SQ004_SQ003__0_1_0', 'FROPCOM0004_SQ004_SQ003__1_0_0', 'FROPCOM0004_SQ004_SQ003__1_0_0_si_besoin', 'FROPCOM0004_SQ004_SQ003__1_2_0_1_2', 'FROPCOM0004_SQ004_SQ003__10_0_12', 'FROPCOM0004_SQ004_SQ003__2_0_0', 'FROPCOM0004_SQ004_SQ003__si_besoin', 'FROPCOM0004_SQ005_SQ001__ACIDE_FOLIQUE', 'FROPCOM0004_SQ005_SQ001__APIXABAN', 'FROPCOM0004_SQ005_SQ001__ATARAX', 'FROPCOM0004_SQ005_SQ001__CLOPIDOGREL', 'FROPCOM0004_SQ005_SQ001__CORENITEC', 'FROPCOM0004_SQ005_SQ001__COTAREG', 'FROPCOM0004_SQ005_SQ001__DESLORATADINE', 'FROPCOM0004_SQ005_SQ001__ELIQUIS', 'FROPCOM0004_SQ005_SQ001__EZETIMIBE_+_ROSUVASTATINE', 'FROPCOM0004_SQ005_SQ001__KARDEGIC', 'FROPCOM0004_SQ005_SQ001__KARDEGIC_', 'FROPCOM0004_SQ005_SQ001__LANTUS', 'FROPCOM0004_SQ005_SQ001__LANTUS_SOLOSTAR_STYLO', 'FROPCOM0004_SQ005_SQ001__LEVOTHYROX', 'FROPCOM0004_SQ005_SQ001__PANTOPRAZOLE', 'FROPCOM0004_SQ005_SQ001__PARACETAMOL', 'FROPCOM0004_SQ005_SQ001__RAMIPRIL_', 'FROPCOM0004_SQ005_SQ001__SERETIDE', 'FROPCOM0004_SQ005_SQ001__nan', 'FROPCOM0004_SQ005_SQ002__100_u_ml', 'FROPCOM0004_SQ005_SQ002__1000_mg', 'FROPCOM0004_SQ005_SQ002__16_UI', 'FROPCOM0004_SQ005_SQ002__160_mg___25_mg', 'FROPCOM0004_SQ005_SQ002__2_5_mg', 'FROPCOM0004_SQ005_SQ002__20_mg_', 'FROPCOM0004_SQ005_SQ002__20_mg___12_5_mg', 'FROPCOM0004_SQ005_SQ002__40_mg', 'FROPCOM0004_SQ005_SQ002__5_mg', 'FROPCOM0004_SQ005_SQ002__5_mg_', 'FROPCOM0004_SQ005_SQ002__75_mg', 'FROPCOM0004_SQ005_SQ002__nan', 'FROPCOM0004_SQ005_SQ003__0_0_1', 'FROPCOM0004_SQ005_SQ003__0_0_30', 'FROPCOM0004_SQ005_SQ003__0_1_0', 'FROPCOM0004_SQ005_SQ003__1_0_0', 'FROPCOM0004_SQ005_SQ003__1_1_1', 'FROPCOM0004_SQ005_SQ003__2_0_0', 'FROPCOM0004_SQ005_SQ003__A_la_demande', 'FROPCOM0004_SQ005_SQ003__nan', 'FROPCOM0004_SQ005_SQ003__si_besoin', 'FROPCOM0004_SQ006_SQ001__ALLOPURINOL', 'FROPCOM0004_SQ006_SQ001__BISOPROLOL', 'FROPCOM0004_SQ006_SQ001__CLOPIDOGREL', 'FROPCOM0004_SQ006_SQ001__COAPROVEL', 'FROPCOM0004_SQ006_SQ001__EFFEXOR', 'FROPCOM0004_SQ006_SQ001__EUPRESSYL_LP', 'FROPCOM0004_SQ006_SQ001__ISOPTINE', 'FROPCOM0004_SQ006_SQ001__JANUVIA', 'FROPCOM0004_SQ006_SQ001__LEVOTHYROXINE', 'FROPCOM0004_SQ006_SQ001__LOGIMAX', 'FROPCOM0004_SQ006_SQ001__LORATADINE', 'FROPCOM0004_SQ006_SQ001__PANTOPRAZOLE', 'FROPCOM0004_SQ006_SQ001__RAMIPRIL', 'FROPCOM0004_SQ006_SQ001__SPIRIVA_RESP', 'FROPCOM0004_SQ006_SQ001__nan', 'FROPCOM0004_SQ006_SQ002__10_mg', 'FROPCOM0004_SQ006_SQ002__100_mg', 'FROPCOM0004_SQ006_SQ002__150_mg', 'FROPCOM0004_SQ006_SQ002__2_5_mg', 'FROPCOM0004_SQ006_SQ002__240_mg', 'FROPCOM0004_SQ006_SQ002__30_mg', 'FROPCOM0004_SQ006_SQ002__300_mg___25_mg', 'FROPCOM0004_SQ006_SQ002__4_mg', 'FROPCOM0004_SQ006_SQ002__40_mg', 'FROPCOM0004_SQ006_SQ002__50_mg', 'FROPCOM0004_SQ006_SQ002__75_mg', 'FROPCOM0004_SQ006_SQ002__nan', 'FROPCOM0004_SQ006_SQ003__0_0_1', 'FROPCOM0004_SQ006_SQ003__0_1_0', 'FROPCOM0004_SQ006_SQ003__0_5_0_0', 'FROPCOM0004_SQ006_SQ003__1_0_0', 'FROPCOM0004_SQ006_SQ003__2_0_0', 'FROPCOM0004_SQ007_SQ001__ALPRAZOLAM', 'FROPCOM0004_SQ007_SQ001__ATORVASTATINE', 'FROPCOM0004_SQ007_SQ001__AVAMYSMETEOSPASMYL', 'FROPCOM0004_SQ007_SQ001__BETAHISTINE', 'FROPCOM0004_SQ007_SQ001__ESIDREX', 'FROPCOM0004_SQ007_SQ001__KAYEXALATE', 'FROPCOM0004_SQ007_SQ001__LEVOTHYROX', 'FROPCOM0004_SQ007_SQ001__LYRICA', 'FROPCOM0004_SQ007_SQ001__METFORMINE', 'FROPCOM0004_SQ007_SQ001__TAHOR', 'FROPCOM0004_SQ007_SQ001__ZELITREX', 'FROPCOM0004_SQ007_SQ001__nan', 'FROPCOM0004_SQ007_SQ002__10_mg', 'FROPCOM0004_SQ007_SQ002__100_mg___6_mg', 'FROPCOM0004_SQ007_SQ002__1000_mg', 'FROPCOM0004_SQ007_SQ002__1500_mg', 'FROPCOM0004_SQ007_SQ002__20_mg', 'FROPCOM0004_SQ007_SQ002__24_mg', 'FROPCOM0004_SQ007_SQ002__25_mg', 'FROPCOM0004_SQ007_SQ002__40_mg', 'FROPCOM0004_SQ007_SQ002__50_mg', 'FROPCOM0004_SQ007_SQ002__500_mg___44_mg', 'FROPCOM0004_SQ007_SQ002__75_mg', 'FROPCOM0004_SQ007_SQ002__nan', 'FROPCOM0004_SQ007_SQ003__0_0_1', 'FROPCOM0004_SQ007_SQ003__1_0_0', 'FROPCOM0004_SQ007_SQ003__1_0_1', 'FROPCOM0004_SQ008_SQ001__CETIRIZINE', 'FROPCOM0004_SQ008_SQ001__DESLORATATIDE', 'FROPCOM0004_SQ008_SQ001__DICLOFENAC', 'FROPCOM0004_SQ008_SQ001__ELIQUIS', 'FROPCOM0004_SQ008_SQ001__ESIDREX', 'FROPCOM0004_SQ008_SQ001__TAMSULOSINE', 'FROPCOM0004_SQ008_SQ001__UVEDOSE', 'FROPCOM0004_SQ008_SQ001__VENTOLINE', 'FROPCOM0004_SQ008_SQ001__nan', 'FROPCOM0004_SQ008_SQ002__0_4_mg_LP', 'FROPCOM0004_SQ008_SQ002__10_mg', 'FROPCOM0004_SQ008_SQ002__100_000_UI_2_ml', 'FROPCOM0004_SQ008_SQ002__2_5_mg', 'FROPCOM0004_SQ008_SQ002__25_mg', 'FROPCOM0004_SQ008_SQ002__30_mg___10_mg___300_mg', 'FROPCOM0004_SQ008_SQ002__nan', 'FROPCOM0004_SQ008_SQ003__0_0_1', 'FROPCOM0004_SQ008_SQ003__0_0_1_', 'FROPCOM0004_SQ008_SQ003__1_0_0', 'FROPCOM0004_SQ008_SQ003__1_0_1', 'FROPCOM0004_SQ008_SQ003__1_1_1', 'FROPCOM0004_SQ008_SQ003__si_besoin', 'FROPCOM0004_SQ009_SQ001__ESOMEPRAZOLE', 'FROPCOM0004_SQ009_SQ001__PERMIXON', 'FROPCOM0004_SQ009_SQ001__RAMIPRIL', 'FROPCOM0004_SQ009_SQ001__RELVAR', 'FROPCOM0004_SQ009_SQ001__SERETIDE', 'FROPCOM0004_SQ009_SQ001__nan', 'FROPCOM0004_SQ009_SQ002__160_mg', 'FROPCOM0004_SQ009_SQ002__2_5_mg', 'FROPCOM0004_SQ009_SQ002__20_mg', 'FROPCOM0004_SQ009_SQ002__250_mg___50_mg', 'FROPCOM0004_SQ009_SQ002__92_mg___22_mg', 'FROPCOM0004_SQ009_SQ003__0_0_1', 'FROPCOM0004_SQ009_SQ003__nan', 'FROPCOM0004_SQ010_SQ001__ABASAGLAR_', 'FROPCOM0004_SQ010_SQ001__DIECETEL', 'FROPCOM0004_SQ010_SQ001__FUROSEMIDE', 'FROPCOM0004_SQ010_SQ001__nan', 'FROPCOM0004_SQ010_SQ002__100_UI_ml', 'FROPCOM0004_SQ010_SQ002__20_mg', 'FROPCOM0004_SQ010_SQ002__nan', 'FROPCOM0004_SQ010_SQ003__0_5_0_0', 'FROPCOM0004_SQ010_SQ003__1_0_0', 'FROPCOM0004_SQ010_SQ003__1_0_1', 'FROPCOM0004_SQ010_SQ003__nan']\n",
      "\n",
      "Significant features for Focal Loss: []\n",
      "\n",
      "Shape of the reduced feature matrix for Hinge Loss: (97, 678)\n",
      "Shape of the reduced feature matrix for Focal Loss: (97, 0)\n"
     ]
    }
   ],
   "source": [
    "# Print the number of significant features\n",
    "print('Number of significant features for Hinge Loss:', len(significant_features_names_hinge))\n",
    "print('Number of significant features for Focal Loss:', len(significant_features_names_focal))\n",
    "\n",
    "# Print the names of significant features\n",
    "print('\\nSignificant features for Hinge Loss:', significant_features_names_hinge)\n",
    "print('\\nSignificant features for Focal Loss:', significant_features_names_focal)\n",
    "\n",
    "# Print the shape of the reduced feature matrix\n",
    "print('\\nShape of the reduced feature matrix for Hinge Loss:', X_reduced_hinge.shape)\n",
    "print('Shape of the reduced feature matrix for Focal Loss:', X_reduced_focal.shape)\n",
    "\n"
   ]
  }
 ],
 "metadata": {
  "kernelspec": {
   "display_name": "py39",
   "language": "python",
   "name": "python3"
  },
  "language_info": {
   "codemirror_mode": {
    "name": "ipython",
    "version": 3
   },
   "file_extension": ".py",
   "mimetype": "text/x-python",
   "name": "python",
   "nbconvert_exporter": "python",
   "pygments_lexer": "ipython3",
   "version": "3.9.17"
  },
  "orig_nbformat": 4
 },
 "nbformat": 4,
 "nbformat_minor": 2
}
